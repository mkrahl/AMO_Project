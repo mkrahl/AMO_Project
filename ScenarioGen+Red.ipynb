{
 "cells": [
  {
   "cell_type": "code",
   "execution_count": 1,
   "metadata": {},
   "outputs": [
    {
     "name": "stderr",
     "output_type": "stream",
     "text": [
      "\u001b[32m\u001b[1m  Activating\u001b[22m\u001b[39m project at `~/Library/Mobile Documents/com~apple~CloudDocs/Master/Applied Mathematical Optimization/Project/Git/AMO_Project`\n",
      "\u001b[33m\u001b[1m┌ \u001b[22m\u001b[39m\u001b[33m\u001b[1mWarning: \u001b[22m\u001b[39mThe project dependencies or compat requirements have changed since the manifest was last resolved.\n",
      "\u001b[33m\u001b[1m│ \u001b[22m\u001b[39mIt is recommended to `Pkg.resolve()` or consider `Pkg.update()` if necessary.\n",
      "\u001b[33m\u001b[1m└ \u001b[22m\u001b[39m\u001b[90m@ Pkg.API /Users/julia/.julia/scratchspaces/a66863c6-20e8-4ff4-8a62-49f30b1f605e/agent-cache/default-macmini-x64-6.0/build/default-macmini-x64-6-0/julialang/julia-release-1-dot-8/usr/share/julia/stdlib/v1.8/Pkg/src/API.jl:1532\u001b[39m\n"
     ]
    }
   ],
   "source": [
    "# Activate project enviroment \n",
    "using Pkg\n",
    "Pkg.activate(\".\")\n",
    "Pkg.instantiate()"
   ]
  },
  {
   "cell_type": "code",
   "execution_count": 2,
   "metadata": {},
   "outputs": [],
   "source": [
    "# die pakete die wir für dieses Notebook brauchen\n",
    "using JuMP\n",
    "using Plots\n",
    "using XLSX\n",
    "using DataFrames\n",
    "using Complementarity\n",
    "using Ipopt\n",
    "using Distributions\n",
    "using CSV\n",
    "using HiGHS\n",
    "using StatsPlots\n",
    "using Clustering\n",
    "using Distances\n",
    "using LinearAlgebra"
   ]
  },
  {
   "attachments": {},
   "cell_type": "markdown",
   "metadata": {},
   "source": [
    "## Stochastic Market Clearing Formulation\n",
    "\n",
    "For the stochastic market clearing a two-stage stochastic programming approach is used. This means, that the day-ahead market and the balancing market are cleared simultaneously, to cooptimize energy and reserve capacity. This simultaneous approach captures the coupling existing between these two commodities and reduces the so-called expected system operation cost (total cost), compared to a sequential approach. \n",
    "\n",
    "For the generation of scenarios we consider the Monte Carlo approach. Thus, in the first step, we fit the Weibull distributions to the scenarios (each hour of each wind farm has it's own independent distribution) and then randomly generate scenarios out of these distributions. To get actual wind energy values from the normalized scenarios, we consider the given energy forcast for each wind farm (see table) as the mean of the energy production level over all 43 hours. (i.e. if the mean value of the scenarios would be 0.5 and the energy forcast is 100, we get a factor of 200)"
   ]
  },
  {
   "cell_type": "code",
   "execution_count": 3,
   "metadata": {},
   "outputs": [
    {
     "data": {
      "text/plain": [
       "(43, 100)"
      ]
     },
     "execution_count": 3,
     "metadata": {},
     "output_type": "execute_result"
    }
   ],
   "source": [
    "# read in wind data for the aggregated zones 1-4 corresponding to the wind farms 1-4 and remove fist coloum as it contains redundant index.\n",
    "scenarios = [CSV.read(\"./data/aggr_zone1.csv\", DataFrame),CSV.read(\"./data/aggr_zone2.csv\", DataFrame),CSV.read(\"./data/aggr_zone3.csv\", DataFrame),CSV.read(\"./data/aggr_zone4.csv\", DataFrame)]\n",
    "c = 1\n",
    "for i in scenarios\n",
    "    scenarios[c]= i[:,2:end]\n",
    "    c = c+1\n",
    "end\n",
    "size(scenarios[1])"
   ]
  },
  {
   "attachments": {},
   "cell_type": "markdown",
   "metadata": {},
   "source": [
    "### Scenario Generation with Monte Carlo Method"
   ]
  },
  {
   "attachments": {},
   "cell_type": "markdown",
   "metadata": {},
   "source": [
    "To generate random scenarios, we first fit weibull distributions to every hour in every scone of the dataset."
   ]
  },
  {
   "cell_type": "code",
   "execution_count": 13,
   "metadata": {},
   "outputs": [],
   "source": [
    "weibull_distr = [[], [], [], []]\n",
    "\n",
    "c = 0\n",
    "for i in scenarios\n",
    "    c = c+1\n",
    "    for row in eachrow(i)\n",
    "        current_hour = Array(row)\n",
    "        weibull_est = fit_mle(Weibull,current_hour)\n",
    "        push!(weibull_distr[c], weibull_est)\n",
    "    end\n",
    "end"
   ]
  },
  {
   "cell_type": "code",
   "execution_count": 26,
   "metadata": {},
   "outputs": [
    {
     "data": {
      "image/svg+xml": "<?xml version=\"1.0\" encoding=\"utf-8\"?>\n<svg xmlns=\"http://www.w3.org/2000/svg\" xmlns:xlink=\"http://www.w3.org/1999/xlink\" width=\"600\" height=\"400\" viewBox=\"0 0 2400 1600\">\n<defs>\n  <clipPath id=\"clip020\">\n    <rect x=\"0\" y=\"0\" width=\"2400\" height=\"1600\"/>\n  </clipPath>\n</defs>\n<path clip-path=\"url(#clip020)\" d=\"\nM0 1600 L2400 1600 L2400 0 L0 0  Z\n  \" fill=\"#ffffff\" fill-rule=\"evenodd\" fill-opacity=\"1\"/>\n<defs>\n  <clipPath id=\"clip021\">\n    <rect x=\"480\" y=\"0\" width=\"1681\" height=\"1600\"/>\n  </clipPath>\n</defs>\n<path clip-path=\"url(#clip020)\" d=\"\nM112.177 1486.45 L2352.76 1486.45 L2352.76 47.2441 L112.177 47.2441  Z\n  \" fill=\"#ffffff\" fill-rule=\"evenodd\" fill-opacity=\"1\"/>\n<defs>\n  <clipPath id=\"clip022\">\n    <rect x=\"112\" y=\"47\" width=\"2242\" height=\"1440\"/>\n  </clipPath>\n</defs>\n<polyline clip-path=\"url(#clip022)\" style=\"stroke:#000000; stroke-linecap:round; stroke-linejoin:round; stroke-width:2; stroke-opacity:0.1; fill:none\" points=\"\n  175.59,1486.45 175.59,47.2441 \n  \"/>\n<polyline clip-path=\"url(#clip022)\" style=\"stroke:#000000; stroke-linecap:round; stroke-linejoin:round; stroke-width:2; stroke-opacity:0.1; fill:none\" points=\"\n  704.028,1486.45 704.028,47.2441 \n  \"/>\n<polyline clip-path=\"url(#clip022)\" style=\"stroke:#000000; stroke-linecap:round; stroke-linejoin:round; stroke-width:2; stroke-opacity:0.1; fill:none\" points=\"\n  1232.47,1486.45 1232.47,47.2441 \n  \"/>\n<polyline clip-path=\"url(#clip022)\" style=\"stroke:#000000; stroke-linecap:round; stroke-linejoin:round; stroke-width:2; stroke-opacity:0.1; fill:none\" points=\"\n  1760.9,1486.45 1760.9,47.2441 \n  \"/>\n<polyline clip-path=\"url(#clip022)\" style=\"stroke:#000000; stroke-linecap:round; stroke-linejoin:round; stroke-width:2; stroke-opacity:0.1; fill:none\" points=\"\n  2289.34,1486.45 2289.34,47.2441 \n  \"/>\n<polyline clip-path=\"url(#clip020)\" style=\"stroke:#000000; stroke-linecap:round; stroke-linejoin:round; stroke-width:4; stroke-opacity:1; fill:none\" points=\"\n  112.177,1486.45 2352.76,1486.45 \n  \"/>\n<polyline clip-path=\"url(#clip020)\" style=\"stroke:#000000; stroke-linecap:round; stroke-linejoin:round; stroke-width:4; stroke-opacity:1; fill:none\" points=\"\n  175.59,1486.45 175.59,1467.55 \n  \"/>\n<polyline clip-path=\"url(#clip020)\" style=\"stroke:#000000; stroke-linecap:round; stroke-linejoin:round; stroke-width:4; stroke-opacity:1; fill:none\" points=\"\n  704.028,1486.45 704.028,1467.55 \n  \"/>\n<polyline clip-path=\"url(#clip020)\" style=\"stroke:#000000; stroke-linecap:round; stroke-linejoin:round; stroke-width:4; stroke-opacity:1; fill:none\" points=\"\n  1232.47,1486.45 1232.47,1467.55 \n  \"/>\n<polyline clip-path=\"url(#clip020)\" style=\"stroke:#000000; stroke-linecap:round; stroke-linejoin:round; stroke-width:4; stroke-opacity:1; fill:none\" points=\"\n  1760.9,1486.45 1760.9,1467.55 \n  \"/>\n<polyline clip-path=\"url(#clip020)\" style=\"stroke:#000000; stroke-linecap:round; stroke-linejoin:round; stroke-width:4; stroke-opacity:1; fill:none\" points=\"\n  2289.34,1486.45 2289.34,1467.55 \n  \"/>\n<path clip-path=\"url(#clip020)\" d=\"M137.893 1517.37 Q134.282 1517.37 132.453 1520.93 Q130.648 1524.47 130.648 1531.6 Q130.648 1538.71 132.453 1542.27 Q134.282 1545.82 137.893 1545.82 Q141.527 1545.82 143.333 1542.27 Q145.162 1538.71 145.162 1531.6 Q145.162 1524.47 143.333 1520.93 Q141.527 1517.37 137.893 1517.37 M137.893 1513.66 Q143.703 1513.66 146.759 1518.27 Q149.838 1522.85 149.838 1531.6 Q149.838 1540.33 146.759 1544.94 Q143.703 1549.52 137.893 1549.52 Q132.083 1549.52 129.004 1544.94 Q125.949 1540.33 125.949 1531.6 Q125.949 1522.85 129.004 1518.27 Q132.083 1513.66 137.893 1513.66 Z\" fill=\"#000000\" fill-rule=\"evenodd\" fill-opacity=\"1\" /><path clip-path=\"url(#clip020)\" d=\"M158.055 1542.97 L162.939 1542.97 L162.939 1548.85 L158.055 1548.85 L158.055 1542.97 Z\" fill=\"#000000\" fill-rule=\"evenodd\" fill-opacity=\"1\" /><path clip-path=\"url(#clip020)\" d=\"M183.124 1517.37 Q179.513 1517.37 177.685 1520.93 Q175.879 1524.47 175.879 1531.6 Q175.879 1538.71 177.685 1542.27 Q179.513 1545.82 183.124 1545.82 Q186.759 1545.82 188.564 1542.27 Q190.393 1538.71 190.393 1531.6 Q190.393 1524.47 188.564 1520.93 Q186.759 1517.37 183.124 1517.37 M183.124 1513.66 Q188.935 1513.66 191.99 1518.27 Q195.069 1522.85 195.069 1531.6 Q195.069 1540.33 191.99 1544.94 Q188.935 1549.52 183.124 1549.52 Q177.314 1549.52 174.236 1544.94 Q171.18 1540.33 171.18 1531.6 Q171.18 1522.85 174.236 1518.27 Q177.314 1513.66 183.124 1513.66 Z\" fill=\"#000000\" fill-rule=\"evenodd\" fill-opacity=\"1\" /><path clip-path=\"url(#clip020)\" d=\"M213.286 1517.37 Q209.675 1517.37 207.847 1520.93 Q206.041 1524.47 206.041 1531.6 Q206.041 1538.71 207.847 1542.27 Q209.675 1545.82 213.286 1545.82 Q216.921 1545.82 218.726 1542.27 Q220.555 1538.71 220.555 1531.6 Q220.555 1524.47 218.726 1520.93 Q216.921 1517.37 213.286 1517.37 M213.286 1513.66 Q219.096 1513.66 222.152 1518.27 Q225.231 1522.85 225.231 1531.6 Q225.231 1540.33 222.152 1544.94 Q219.096 1549.52 213.286 1549.52 Q207.476 1549.52 204.397 1544.94 Q201.342 1540.33 201.342 1531.6 Q201.342 1522.85 204.397 1518.27 Q207.476 1513.66 213.286 1513.66 Z\" fill=\"#000000\" fill-rule=\"evenodd\" fill-opacity=\"1\" /><path clip-path=\"url(#clip020)\" d=\"M666.829 1517.37 Q663.218 1517.37 661.39 1520.93 Q659.584 1524.47 659.584 1531.6 Q659.584 1538.71 661.39 1542.27 Q663.218 1545.82 666.829 1545.82 Q670.464 1545.82 672.269 1542.27 Q674.098 1538.71 674.098 1531.6 Q674.098 1524.47 672.269 1520.93 Q670.464 1517.37 666.829 1517.37 M666.829 1513.66 Q672.639 1513.66 675.695 1518.27 Q678.774 1522.85 678.774 1531.6 Q678.774 1540.33 675.695 1544.94 Q672.639 1549.52 666.829 1549.52 Q661.019 1549.52 657.94 1544.94 Q654.885 1540.33 654.885 1531.6 Q654.885 1522.85 657.94 1518.27 Q661.019 1513.66 666.829 1513.66 Z\" fill=\"#000000\" fill-rule=\"evenodd\" fill-opacity=\"1\" /><path clip-path=\"url(#clip020)\" d=\"M686.991 1542.97 L691.875 1542.97 L691.875 1548.85 L686.991 1548.85 L686.991 1542.97 Z\" fill=\"#000000\" fill-rule=\"evenodd\" fill-opacity=\"1\" /><path clip-path=\"url(#clip020)\" d=\"M706.088 1544.91 L722.408 1544.91 L722.408 1548.85 L700.463 1548.85 L700.463 1544.91 Q703.125 1542.16 707.709 1537.53 Q712.315 1532.88 713.496 1531.53 Q715.741 1529.01 716.621 1527.27 Q717.523 1525.51 717.523 1523.82 Q717.523 1521.07 715.579 1519.33 Q713.658 1517.6 710.556 1517.6 Q708.357 1517.6 705.903 1518.36 Q703.473 1519.13 700.695 1520.68 L700.695 1515.95 Q703.519 1514.82 705.973 1514.24 Q708.426 1513.66 710.463 1513.66 Q715.834 1513.66 719.028 1516.35 Q722.223 1519.03 722.223 1523.52 Q722.223 1525.65 721.412 1527.57 Q720.625 1529.47 718.519 1532.07 Q717.94 1532.74 714.838 1535.95 Q711.736 1539.15 706.088 1544.91 Z\" fill=\"#000000\" fill-rule=\"evenodd\" fill-opacity=\"1\" /><path clip-path=\"url(#clip020)\" d=\"M732.269 1514.29 L750.625 1514.29 L750.625 1518.22 L736.551 1518.22 L736.551 1526.7 Q737.57 1526.35 738.588 1526.19 Q739.607 1526 740.625 1526 Q746.412 1526 749.792 1529.17 Q753.171 1532.34 753.171 1537.76 Q753.171 1543.34 749.699 1546.44 Q746.227 1549.52 739.908 1549.52 Q737.732 1549.52 735.463 1549.15 Q733.218 1548.78 730.81 1548.04 L730.81 1543.34 Q732.894 1544.47 735.116 1545.03 Q737.338 1545.58 739.815 1545.58 Q743.82 1545.58 746.158 1543.48 Q748.496 1541.37 748.496 1537.76 Q748.496 1534.15 746.158 1532.04 Q743.82 1529.94 739.815 1529.94 Q737.94 1529.94 736.065 1530.35 Q734.213 1530.77 732.269 1531.65 L732.269 1514.29 Z\" fill=\"#000000\" fill-rule=\"evenodd\" fill-opacity=\"1\" /><path clip-path=\"url(#clip020)\" d=\"M1194.77 1517.37 Q1191.16 1517.37 1189.33 1520.93 Q1187.52 1524.47 1187.52 1531.6 Q1187.52 1538.71 1189.33 1542.27 Q1191.16 1545.82 1194.77 1545.82 Q1198.4 1545.82 1200.21 1542.27 Q1202.04 1538.71 1202.04 1531.6 Q1202.04 1524.47 1200.21 1520.93 Q1198.4 1517.37 1194.77 1517.37 M1194.77 1513.66 Q1200.58 1513.66 1203.64 1518.27 Q1206.71 1522.85 1206.71 1531.6 Q1206.71 1540.33 1203.64 1544.94 Q1200.58 1549.52 1194.77 1549.52 Q1188.96 1549.52 1185.88 1544.94 Q1182.83 1540.33 1182.83 1531.6 Q1182.83 1522.85 1185.88 1518.27 Q1188.96 1513.66 1194.77 1513.66 Z\" fill=\"#000000\" fill-rule=\"evenodd\" fill-opacity=\"1\" /><path clip-path=\"url(#clip020)\" d=\"M1214.93 1542.97 L1219.82 1542.97 L1219.82 1548.85 L1214.93 1548.85 L1214.93 1542.97 Z\" fill=\"#000000\" fill-rule=\"evenodd\" fill-opacity=\"1\" /><path clip-path=\"url(#clip020)\" d=\"M1230.05 1514.29 L1248.4 1514.29 L1248.4 1518.22 L1234.33 1518.22 L1234.33 1526.7 Q1235.35 1526.35 1236.37 1526.19 Q1237.39 1526 1238.4 1526 Q1244.19 1526 1247.57 1529.17 Q1250.95 1532.34 1250.95 1537.76 Q1250.95 1543.34 1247.48 1546.44 Q1244.01 1549.52 1237.69 1549.52 Q1235.51 1549.52 1233.24 1549.15 Q1231 1548.78 1228.59 1548.04 L1228.59 1543.34 Q1230.67 1544.47 1232.89 1545.03 Q1235.12 1545.58 1237.59 1545.58 Q1241.6 1545.58 1243.94 1543.48 Q1246.27 1541.37 1246.27 1537.76 Q1246.27 1534.15 1243.94 1532.04 Q1241.6 1529.94 1237.59 1529.94 Q1235.72 1529.94 1233.84 1530.35 Q1231.99 1530.77 1230.05 1531.65 L1230.05 1514.29 Z\" fill=\"#000000\" fill-rule=\"evenodd\" fill-opacity=\"1\" /><path clip-path=\"url(#clip020)\" d=\"M1270.16 1517.37 Q1266.55 1517.37 1264.72 1520.93 Q1262.92 1524.47 1262.92 1531.6 Q1262.92 1538.71 1264.72 1542.27 Q1266.55 1545.82 1270.16 1545.82 Q1273.8 1545.82 1275.6 1542.27 Q1277.43 1538.71 1277.43 1531.6 Q1277.43 1524.47 1275.6 1520.93 Q1273.8 1517.37 1270.16 1517.37 M1270.16 1513.66 Q1275.97 1513.66 1279.03 1518.27 Q1282.11 1522.85 1282.11 1531.6 Q1282.11 1540.33 1279.03 1544.94 Q1275.97 1549.52 1270.16 1549.52 Q1264.35 1549.52 1261.27 1544.94 Q1258.22 1540.33 1258.22 1531.6 Q1258.22 1522.85 1261.27 1518.27 Q1264.35 1513.66 1270.16 1513.66 Z\" fill=\"#000000\" fill-rule=\"evenodd\" fill-opacity=\"1\" /><path clip-path=\"url(#clip020)\" d=\"M1723.71 1517.37 Q1720.09 1517.37 1718.27 1520.93 Q1716.46 1524.47 1716.46 1531.6 Q1716.46 1538.71 1718.27 1542.27 Q1720.09 1545.82 1723.71 1545.82 Q1727.34 1545.82 1729.15 1542.27 Q1730.97 1538.71 1730.97 1531.6 Q1730.97 1524.47 1729.15 1520.93 Q1727.34 1517.37 1723.71 1517.37 M1723.71 1513.66 Q1729.52 1513.66 1732.57 1518.27 Q1735.65 1522.85 1735.65 1531.6 Q1735.65 1540.33 1732.57 1544.94 Q1729.52 1549.52 1723.71 1549.52 Q1717.9 1549.52 1714.82 1544.94 Q1711.76 1540.33 1711.76 1531.6 Q1711.76 1522.85 1714.82 1518.27 Q1717.9 1513.66 1723.71 1513.66 Z\" fill=\"#000000\" fill-rule=\"evenodd\" fill-opacity=\"1\" /><path clip-path=\"url(#clip020)\" d=\"M1743.87 1542.97 L1748.75 1542.97 L1748.75 1548.85 L1743.87 1548.85 L1743.87 1542.97 Z\" fill=\"#000000\" fill-rule=\"evenodd\" fill-opacity=\"1\" /><path clip-path=\"url(#clip020)\" d=\"M1757.76 1514.29 L1779.98 1514.29 L1779.98 1516.28 L1767.43 1548.85 L1762.55 1548.85 L1774.35 1518.22 L1757.76 1518.22 L1757.76 1514.29 Z\" fill=\"#000000\" fill-rule=\"evenodd\" fill-opacity=\"1\" /><path clip-path=\"url(#clip020)\" d=\"M1789.15 1514.29 L1807.5 1514.29 L1807.5 1518.22 L1793.43 1518.22 L1793.43 1526.7 Q1794.45 1526.35 1795.46 1526.19 Q1796.48 1526 1797.5 1526 Q1803.29 1526 1806.67 1529.17 Q1810.05 1532.34 1810.05 1537.76 Q1810.05 1543.34 1806.58 1546.44 Q1803.1 1549.52 1796.78 1549.52 Q1794.61 1549.52 1792.34 1549.15 Q1790.09 1548.78 1787.69 1548.04 L1787.69 1543.34 Q1789.77 1544.47 1791.99 1545.03 Q1794.21 1545.58 1796.69 1545.58 Q1800.7 1545.58 1803.03 1543.48 Q1805.37 1541.37 1805.37 1537.76 Q1805.37 1534.15 1803.03 1532.04 Q1800.7 1529.94 1796.69 1529.94 Q1794.82 1529.94 1792.94 1530.35 Q1791.09 1530.77 1789.15 1531.65 L1789.15 1514.29 Z\" fill=\"#000000\" fill-rule=\"evenodd\" fill-opacity=\"1\" /><path clip-path=\"url(#clip020)\" d=\"M2241.42 1544.91 L2249.05 1544.91 L2249.05 1518.55 L2240.74 1520.21 L2240.74 1515.95 L2249.01 1514.29 L2253.68 1514.29 L2253.68 1544.91 L2261.32 1544.91 L2261.32 1548.85 L2241.42 1548.85 L2241.42 1544.91 Z\" fill=\"#000000\" fill-rule=\"evenodd\" fill-opacity=\"1\" /><path clip-path=\"url(#clip020)\" d=\"M2270.77 1542.97 L2275.65 1542.97 L2275.65 1548.85 L2270.77 1548.85 L2270.77 1542.97 Z\" fill=\"#000000\" fill-rule=\"evenodd\" fill-opacity=\"1\" /><path clip-path=\"url(#clip020)\" d=\"M2295.84 1517.37 Q2292.23 1517.37 2290.4 1520.93 Q2288.59 1524.47 2288.59 1531.6 Q2288.59 1538.71 2290.4 1542.27 Q2292.23 1545.82 2295.84 1545.82 Q2299.47 1545.82 2301.28 1542.27 Q2303.1 1538.71 2303.1 1531.6 Q2303.1 1524.47 2301.28 1520.93 Q2299.47 1517.37 2295.84 1517.37 M2295.84 1513.66 Q2301.65 1513.66 2304.7 1518.27 Q2307.78 1522.85 2307.78 1531.6 Q2307.78 1540.33 2304.7 1544.94 Q2301.65 1549.52 2295.84 1549.52 Q2290.03 1549.52 2286.95 1544.94 Q2283.89 1540.33 2283.89 1531.6 Q2283.89 1522.85 2286.95 1518.27 Q2290.03 1513.66 2295.84 1513.66 Z\" fill=\"#000000\" fill-rule=\"evenodd\" fill-opacity=\"1\" /><path clip-path=\"url(#clip020)\" d=\"M2326 1517.37 Q2322.39 1517.37 2320.56 1520.93 Q2318.75 1524.47 2318.75 1531.6 Q2318.75 1538.71 2320.56 1542.27 Q2322.39 1545.82 2326 1545.82 Q2329.63 1545.82 2331.44 1542.27 Q2333.27 1538.71 2333.27 1531.6 Q2333.27 1524.47 2331.44 1520.93 Q2329.63 1517.37 2326 1517.37 M2326 1513.66 Q2331.81 1513.66 2334.86 1518.27 Q2337.94 1522.85 2337.94 1531.6 Q2337.94 1540.33 2334.86 1544.94 Q2331.81 1549.52 2326 1549.52 Q2320.19 1549.52 2317.11 1544.94 Q2314.05 1540.33 2314.05 1531.6 Q2314.05 1522.85 2317.11 1518.27 Q2320.19 1513.66 2326 1513.66 Z\" fill=\"#000000\" fill-rule=\"evenodd\" fill-opacity=\"1\" /><polyline clip-path=\"url(#clip022)\" style=\"stroke:#000000; stroke-linecap:round; stroke-linejoin:round; stroke-width:2; stroke-opacity:0.1; fill:none\" points=\"\n  112.177,1445.72 2352.76,1445.72 \n  \"/>\n<polyline clip-path=\"url(#clip022)\" style=\"stroke:#000000; stroke-linecap:round; stroke-linejoin:round; stroke-width:2; stroke-opacity:0.1; fill:none\" points=\"\n  112.177,1157.33 2352.76,1157.33 \n  \"/>\n<polyline clip-path=\"url(#clip022)\" style=\"stroke:#000000; stroke-linecap:round; stroke-linejoin:round; stroke-width:2; stroke-opacity:0.1; fill:none\" points=\"\n  112.177,868.945 2352.76,868.945 \n  \"/>\n<polyline clip-path=\"url(#clip022)\" style=\"stroke:#000000; stroke-linecap:round; stroke-linejoin:round; stroke-width:2; stroke-opacity:0.1; fill:none\" points=\"\n  112.177,580.56 2352.76,580.56 \n  \"/>\n<polyline clip-path=\"url(#clip022)\" style=\"stroke:#000000; stroke-linecap:round; stroke-linejoin:round; stroke-width:2; stroke-opacity:0.1; fill:none\" points=\"\n  112.177,292.174 2352.76,292.174 \n  \"/>\n<polyline clip-path=\"url(#clip020)\" style=\"stroke:#000000; stroke-linecap:round; stroke-linejoin:round; stroke-width:4; stroke-opacity:1; fill:none\" points=\"\n  112.177,1486.45 112.177,47.2441 \n  \"/>\n<polyline clip-path=\"url(#clip020)\" style=\"stroke:#000000; stroke-linecap:round; stroke-linejoin:round; stroke-width:4; stroke-opacity:1; fill:none\" points=\"\n  112.177,1445.72 131.075,1445.72 \n  \"/>\n<polyline clip-path=\"url(#clip020)\" style=\"stroke:#000000; stroke-linecap:round; stroke-linejoin:round; stroke-width:4; stroke-opacity:1; fill:none\" points=\"\n  112.177,1157.33 131.075,1157.33 \n  \"/>\n<polyline clip-path=\"url(#clip020)\" style=\"stroke:#000000; stroke-linecap:round; stroke-linejoin:round; stroke-width:4; stroke-opacity:1; fill:none\" points=\"\n  112.177,868.945 131.075,868.945 \n  \"/>\n<polyline clip-path=\"url(#clip020)\" style=\"stroke:#000000; stroke-linecap:round; stroke-linejoin:round; stroke-width:4; stroke-opacity:1; fill:none\" points=\"\n  112.177,580.56 131.075,580.56 \n  \"/>\n<polyline clip-path=\"url(#clip020)\" style=\"stroke:#000000; stroke-linecap:round; stroke-linejoin:round; stroke-width:4; stroke-opacity:1; fill:none\" points=\"\n  112.177,292.174 131.075,292.174 \n  \"/>\n<path clip-path=\"url(#clip020)\" d=\"M64.2328 1431.51 Q60.6217 1431.51 58.793 1435.08 Q56.9875 1438.62 56.9875 1445.75 Q56.9875 1452.86 58.793 1456.42 Q60.6217 1459.96 64.2328 1459.96 Q67.867 1459.96 69.6726 1456.42 Q71.5013 1452.86 71.5013 1445.75 Q71.5013 1438.62 69.6726 1435.08 Q67.867 1431.51 64.2328 1431.51 M64.2328 1427.81 Q70.0429 1427.81 73.0985 1432.42 Q76.1772 1437 76.1772 1445.75 Q76.1772 1454.48 73.0985 1459.08 Q70.0429 1463.67 64.2328 1463.67 Q58.4226 1463.67 55.344 1459.08 Q52.2884 1454.48 52.2884 1445.75 Q52.2884 1437 55.344 1432.42 Q58.4226 1427.81 64.2328 1427.81 Z\" fill=\"#000000\" fill-rule=\"evenodd\" fill-opacity=\"1\" /><path clip-path=\"url(#clip020)\" d=\"M56.2699 1170.68 L63.9087 1170.68 L63.9087 1144.31 L55.5986 1145.98 L55.5986 1141.72 L63.8624 1140.05 L68.5383 1140.05 L68.5383 1170.68 L76.1772 1170.68 L76.1772 1174.61 L56.2699 1174.61 L56.2699 1170.68 Z\" fill=\"#000000\" fill-rule=\"evenodd\" fill-opacity=\"1\" /><path clip-path=\"url(#clip020)\" d=\"M59.8578 882.29 L76.1772 882.29 L76.1772 886.225 L54.2328 886.225 L54.2328 882.29 Q56.8949 879.535 61.4782 874.906 Q66.0846 870.253 67.2652 868.91 Q69.5105 866.387 70.3902 864.651 Q71.2929 862.892 71.2929 861.202 Q71.2929 858.447 69.3485 856.711 Q67.4272 854.975 64.3254 854.975 Q62.1263 854.975 59.6726 855.739 Q57.2421 856.503 54.4643 858.054 L54.4643 853.332 Q57.2884 852.197 59.7421 851.619 Q62.1958 851.04 64.2328 851.04 Q69.6031 851.04 72.7976 853.725 Q75.992 856.41 75.992 860.901 Q75.992 863.031 75.1818 864.952 Q74.3948 866.85 72.2883 869.443 Q71.7096 870.114 68.6078 873.332 Q65.5059 876.526 59.8578 882.29 Z\" fill=\"#000000\" fill-rule=\"evenodd\" fill-opacity=\"1\" /><path clip-path=\"url(#clip020)\" d=\"M69.0476 579.206 Q72.404 579.923 74.279 582.192 Q76.1772 584.46 76.1772 587.793 Q76.1772 592.909 72.6587 595.71 Q69.1402 598.511 62.6587 598.511 Q60.4828 598.511 58.168 598.071 Q55.8764 597.655 53.4227 596.798 L53.4227 592.284 Q55.3671 593.418 57.6819 593.997 Q59.9967 594.576 62.5198 594.576 Q66.918 594.576 69.2096 592.84 Q71.5244 591.104 71.5244 587.793 Q71.5244 584.738 69.3717 583.025 Q67.242 581.289 63.4226 581.289 L59.3949 581.289 L59.3949 577.446 L63.6078 577.446 Q67.0569 577.446 68.8855 576.081 Q70.7142 574.692 70.7142 572.099 Q70.7142 569.437 68.8161 568.025 Q66.9411 566.59 63.4226 566.59 Q61.5013 566.59 59.3023 567.007 Q57.1032 567.423 54.4643 568.303 L54.4643 564.136 Q57.1264 563.395 59.4412 563.025 Q61.7791 562.655 63.8393 562.655 Q69.1633 562.655 72.2652 565.085 Q75.367 567.493 75.367 571.613 Q75.367 574.483 73.7235 576.474 Q72.08 578.442 69.0476 579.206 Z\" fill=\"#000000\" fill-rule=\"evenodd\" fill-opacity=\"1\" /><path clip-path=\"url(#clip020)\" d=\"M66.5939 278.968 L54.7884 297.417 L66.5939 297.417 L66.5939 278.968 M65.367 274.894 L71.2466 274.894 L71.2466 297.417 L76.1772 297.417 L76.1772 301.306 L71.2466 301.306 L71.2466 309.454 L66.5939 309.454 L66.5939 301.306 L50.9921 301.306 L50.9921 296.792 L65.367 274.894 Z\" fill=\"#000000\" fill-rule=\"evenodd\" fill-opacity=\"1\" /><polyline clip-path=\"url(#clip022)\" style=\"stroke:#009af9; stroke-linecap:round; stroke-linejoin:round; stroke-width:12; stroke-opacity:1; fill:none\" points=\"\n  175.59,1445.72 196.727,1445.72 217.865,1445.72 239.002,1445.72 260.14,1445.72 281.277,1445.72 302.415,1445.71 323.553,1445.71 344.69,1445.71 365.828,1445.7 \n  386.965,1445.68 408.103,1445.65 429.24,1445.6 450.378,1445.52 471.515,1445.4 492.653,1445.22 513.79,1444.96 534.928,1444.6 556.065,1444.1 577.203,1443.42 \n  598.34,1442.51 619.478,1441.32 640.616,1439.77 661.753,1437.78 682.891,1435.26 704.028,1432.09 725.166,1428.14 746.303,1423.27 767.441,1417.32 788.578,1410.09 \n  809.716,1401.37 830.853,1390.94 851.991,1378.54 873.128,1363.89 894.266,1346.7 915.404,1326.64 936.541,1303.39 957.679,1276.6 978.816,1245.94 999.954,1211.07 \n  1021.09,1171.67 1042.23,1127.48 1063.37,1078.27 1084.5,1023.91 1105.64,964.371 1126.78,899.778 1147.92,830.418 1169.05,756.797 1190.19,679.666 1211.33,600.06 \n  1232.47,519.32 1253.6,439.11 1274.74,361.419 1295.88,288.534 1317.02,222.991 1338.15,167.491 1359.29,124.782 1380.43,97.4975 1401.57,87.9763 1422.7,98.0483 \n  1443.84,128.823 1464.98,180.492 1486.12,252.184 1507.25,341.884 1528.39,446.465 1549.53,561.832 1570.67,683.193 1591.8,805.428 1612.94,923.527 1634.08,1033.04 \n  1655.22,1130.48 1676.35,1213.56 1697.49,1281.36 1718.63,1334.19 1739.77,1373.41 1760.9,1401.09 1782.04,1419.58 1803.18,1431.25 1824.32,1438.18 1845.46,1442.04 \n  1866.59,1444.04 1887.73,1445.01 1908.87,1445.44 1930.01,1445.62 1951.14,1445.68 1972.28,1445.71 1993.42,1445.71 2014.56,1445.72 2035.69,1445.72 2056.83,1445.72 \n  2077.97,1445.72 2099.11,1445.72 2120.24,1445.72 2141.38,1445.72 2162.52,1445.72 2183.66,1445.72 2204.79,1445.72 2225.93,1445.72 2247.07,1445.72 2268.21,1445.72 \n  2289.34,1445.72 \n  \"/>\n<path clip-path=\"url(#clip020)\" d=\"\nM1887.11 198.898 L2278.07 198.898 L2278.07 95.2176 L1887.11 95.2176  Z\n  \" fill=\"#ffffff\" fill-rule=\"evenodd\" fill-opacity=\"1\"/>\n<polyline clip-path=\"url(#clip020)\" style=\"stroke:#000000; stroke-linecap:round; stroke-linejoin:round; stroke-width:4; stroke-opacity:1; fill:none\" points=\"\n  1887.11,198.898 2278.07,198.898 2278.07,95.2176 1887.11,95.2176 1887.11,198.898 \n  \"/>\n<polyline clip-path=\"url(#clip020)\" style=\"stroke:#009af9; stroke-linecap:round; stroke-linejoin:round; stroke-width:12; stroke-opacity:1; fill:none\" points=\"\n  1912.01,147.058 2061.38,147.058 \n  \"/>\n<path clip-path=\"url(#clip020)\" d=\"M2086.28 129.778 L2091 129.778 L2098.27 158.99 L2105.51 129.778 L2110.77 129.778 L2118.04 158.99 L2125.28 129.778 L2130.03 129.778 L2121.35 164.338 L2115.47 164.338 L2108.18 134.338 L2100.81 164.338 L2094.93 164.338 L2086.28 129.778 Z\" fill=\"#000000\" fill-rule=\"evenodd\" fill-opacity=\"1\" /><path clip-path=\"url(#clip020)\" d=\"M2155.44 150.31 L2155.44 152.393 L2135.86 152.393 Q2136.14 156.791 2138.5 159.106 Q2140.88 161.398 2145.12 161.398 Q2147.57 161.398 2149.86 160.796 Q2152.18 160.194 2154.45 158.99 L2154.45 163.018 Q2152.16 163.99 2149.75 164.5 Q2147.34 165.009 2144.87 165.009 Q2138.66 165.009 2135.03 161.398 Q2131.42 157.787 2131.42 151.629 Q2131.42 145.264 2134.84 141.537 Q2138.29 137.787 2144.12 137.787 Q2149.36 137.787 2152.39 141.166 Q2155.44 144.523 2155.44 150.31 M2151.18 149.06 Q2151.14 145.565 2149.22 143.481 Q2147.32 141.398 2144.17 141.398 Q2140.61 141.398 2138.45 143.412 Q2136.32 145.426 2136 149.083 L2151.18 149.06 Z\" fill=\"#000000\" fill-rule=\"evenodd\" fill-opacity=\"1\" /><path clip-path=\"url(#clip020)\" d=\"M2162.43 138.412 L2166.69 138.412 L2166.69 164.338 L2162.43 164.338 L2162.43 138.412 M2162.43 128.319 L2166.69 128.319 L2166.69 133.713 L2162.43 133.713 L2162.43 128.319 Z\" fill=\"#000000\" fill-rule=\"evenodd\" fill-opacity=\"1\" /><path clip-path=\"url(#clip020)\" d=\"M2194.22 151.398 Q2194.22 146.699 2192.27 144.037 Q2190.35 141.352 2186.97 141.352 Q2183.59 141.352 2181.65 144.037 Q2179.73 146.699 2179.73 151.398 Q2179.73 156.097 2181.65 158.782 Q2183.59 161.444 2186.97 161.444 Q2190.35 161.444 2192.27 158.782 Q2194.22 156.097 2194.22 151.398 M2179.73 142.347 Q2181.07 140.032 2183.11 138.921 Q2185.17 137.787 2188.01 137.787 Q2192.74 137.787 2195.67 141.537 Q2198.64 145.287 2198.64 151.398 Q2198.64 157.509 2195.67 161.259 Q2192.74 165.009 2188.01 165.009 Q2185.17 165.009 2183.11 163.898 Q2181.07 162.763 2179.73 160.449 L2179.73 164.338 L2175.44 164.338 L2175.44 128.319 L2179.73 128.319 L2179.73 142.347 Z\" fill=\"#000000\" fill-rule=\"evenodd\" fill-opacity=\"1\" /><path clip-path=\"url(#clip020)\" d=\"M2205.26 154.106 L2205.26 138.412 L2209.52 138.412 L2209.52 153.944 Q2209.52 157.625 2210.95 159.476 Q2212.39 161.305 2215.26 161.305 Q2218.71 161.305 2220.7 159.106 Q2222.71 156.907 2222.71 153.111 L2222.71 138.412 L2226.97 138.412 L2226.97 164.338 L2222.71 164.338 L2222.71 160.356 Q2221.16 162.717 2219.1 163.875 Q2217.06 165.009 2214.36 165.009 Q2209.89 165.009 2207.57 162.231 Q2205.26 159.453 2205.26 154.106 M2215.98 137.787 L2215.98 137.787 Z\" fill=\"#000000\" fill-rule=\"evenodd\" fill-opacity=\"1\" /><path clip-path=\"url(#clip020)\" d=\"M2235.74 128.319 L2240 128.319 L2240 164.338 L2235.74 164.338 L2235.74 128.319 Z\" fill=\"#000000\" fill-rule=\"evenodd\" fill-opacity=\"1\" /><path clip-path=\"url(#clip020)\" d=\"M2248.92 128.319 L2253.17 128.319 L2253.17 164.338 L2248.92 164.338 L2248.92 128.319 Z\" fill=\"#000000\" fill-rule=\"evenodd\" fill-opacity=\"1\" /></svg>\n"
     },
     "execution_count": 26,
     "metadata": {},
     "output_type": "execute_result"
    }
   ],
   "source": [
    "#Plot pdf of Estimations - Exemplary first hour of zone 2\n",
    "x = 0.0:0.01:1\n",
    "plot(x,pdf.(weibull_distr[2][1],x),label=\"Weibull\",lw=3)"
   ]
  },
  {
   "cell_type": "code",
   "execution_count": 27,
   "metadata": {},
   "outputs": [
    {
     "data": {
      "text/plain": [
       "Weibull{Float64}(α=7.495559487306329, θ=0.5911744138655056)"
      ]
     },
     "execution_count": 27,
     "metadata": {},
     "output_type": "execute_result"
    }
   ],
   "source": [
    "weibull_distr[2][1]  # Zone 2 hour 1"
   ]
  },
  {
   "cell_type": "code",
   "execution_count": 31,
   "metadata": {},
   "outputs": [],
   "source": [
    "MonteCarlo_scenarios = [[], [], [], []]\n",
    "\n",
    "for z in 1:4\n",
    "    for h in 1:43\n",
    "        S = 10000\n",
    "        scenarios = rand.(weibull_distr[z][h], S)'\n",
    "        push!(MonteCarlo_scenarios[z], scenarios)\n",
    "    end\n",
    "end"
   ]
  },
  {
   "cell_type": "code",
   "execution_count": 32,
   "metadata": {},
   "outputs": [
    {
     "data": {
      "text/plain": [
       "1×10000 adjoint(::Vector{Float64}) with eltype Float64:\n",
       " 0.640224  0.549764  0.631303  0.518233  …  0.588796  0.556375  0.625718"
      ]
     },
     "execution_count": 32,
     "metadata": {},
     "output_type": "execute_result"
    }
   ],
   "source": [
    "MonteCarlo_scenarios[2][1]  # Zone 2 hour 1"
   ]
  },
  {
   "cell_type": "code",
   "execution_count": 34,
   "metadata": {},
   "outputs": [
    {
     "data": {
      "image/svg+xml": "<?xml version=\"1.0\" encoding=\"utf-8\"?>\n<svg xmlns=\"http://www.w3.org/2000/svg\" xmlns:xlink=\"http://www.w3.org/1999/xlink\" width=\"600\" height=\"400\" viewBox=\"0 0 2400 1600\">\n<defs>\n  <clipPath id=\"clip100\">\n    <rect x=\"0\" y=\"0\" width=\"2400\" height=\"1600\"/>\n  </clipPath>\n</defs>\n<path clip-path=\"url(#clip100)\" d=\"\nM0 1600 L2400 1600 L2400 0 L0 0  Z\n  \" fill=\"#ffffff\" fill-rule=\"evenodd\" fill-opacity=\"1\"/>\n<defs>\n  <clipPath id=\"clip101\">\n    <rect x=\"480\" y=\"0\" width=\"1681\" height=\"1600\"/>\n  </clipPath>\n</defs>\n<path clip-path=\"url(#clip100)\" d=\"\nM112.177 1486.45 L2352.76 1486.45 L2352.76 47.2441 L112.177 47.2441  Z\n  \" fill=\"#ffffff\" fill-rule=\"evenodd\" fill-opacity=\"1\"/>\n<defs>\n  <clipPath id=\"clip102\">\n    <rect x=\"112\" y=\"47\" width=\"2242\" height=\"1440\"/>\n  </clipPath>\n</defs>\n<polyline clip-path=\"url(#clip102)\" style=\"stroke:#000000; stroke-linecap:round; stroke-linejoin:round; stroke-width:2; stroke-opacity:0.1; fill:none\" points=\"\n  428.96,1486.45 428.96,47.2441 \n  \"/>\n<polyline clip-path=\"url(#clip102)\" style=\"stroke:#000000; stroke-linecap:round; stroke-linejoin:round; stroke-width:2; stroke-opacity:0.1; fill:none\" points=\"\n  1014.67,1486.45 1014.67,47.2441 \n  \"/>\n<polyline clip-path=\"url(#clip102)\" style=\"stroke:#000000; stroke-linecap:round; stroke-linejoin:round; stroke-width:2; stroke-opacity:0.1; fill:none\" points=\"\n  1600.39,1486.45 1600.39,47.2441 \n  \"/>\n<polyline clip-path=\"url(#clip102)\" style=\"stroke:#000000; stroke-linecap:round; stroke-linejoin:round; stroke-width:2; stroke-opacity:0.1; fill:none\" points=\"\n  2186.1,1486.45 2186.1,47.2441 \n  \"/>\n<polyline clip-path=\"url(#clip100)\" style=\"stroke:#000000; stroke-linecap:round; stroke-linejoin:round; stroke-width:4; stroke-opacity:1; fill:none\" points=\"\n  112.177,1486.45 2352.76,1486.45 \n  \"/>\n<polyline clip-path=\"url(#clip100)\" style=\"stroke:#000000; stroke-linecap:round; stroke-linejoin:round; stroke-width:4; stroke-opacity:1; fill:none\" points=\"\n  428.96,1486.45 428.96,1467.55 \n  \"/>\n<polyline clip-path=\"url(#clip100)\" style=\"stroke:#000000; stroke-linecap:round; stroke-linejoin:round; stroke-width:4; stroke-opacity:1; fill:none\" points=\"\n  1014.67,1486.45 1014.67,1467.55 \n  \"/>\n<polyline clip-path=\"url(#clip100)\" style=\"stroke:#000000; stroke-linecap:round; stroke-linejoin:round; stroke-width:4; stroke-opacity:1; fill:none\" points=\"\n  1600.39,1486.45 1600.39,1467.55 \n  \"/>\n<polyline clip-path=\"url(#clip100)\" style=\"stroke:#000000; stroke-linecap:round; stroke-linejoin:round; stroke-width:4; stroke-opacity:1; fill:none\" points=\"\n  2186.1,1486.45 2186.1,1467.55 \n  \"/>\n<path clip-path=\"url(#clip100)\" d=\"M407.143 1517.37 Q403.532 1517.37 401.703 1520.93 Q399.898 1524.47 399.898 1531.6 Q399.898 1538.71 401.703 1542.27 Q403.532 1545.82 407.143 1545.82 Q410.777 1545.82 412.583 1542.27 Q414.412 1538.71 414.412 1531.6 Q414.412 1524.47 412.583 1520.93 Q410.777 1517.37 407.143 1517.37 M407.143 1513.66 Q412.953 1513.66 416.009 1518.27 Q419.087 1522.85 419.087 1531.6 Q419.087 1540.33 416.009 1544.94 Q412.953 1549.52 407.143 1549.52 Q401.333 1549.52 398.254 1544.94 Q395.199 1540.33 395.199 1531.6 Q395.199 1522.85 398.254 1518.27 Q401.333 1513.66 407.143 1513.66 Z\" fill=\"#000000\" fill-rule=\"evenodd\" fill-opacity=\"1\" /><path clip-path=\"url(#clip100)\" d=\"M427.305 1542.97 L432.189 1542.97 L432.189 1548.85 L427.305 1548.85 L427.305 1542.97 Z\" fill=\"#000000\" fill-rule=\"evenodd\" fill-opacity=\"1\" /><path clip-path=\"url(#clip100)\" d=\"M446.402 1544.91 L462.722 1544.91 L462.722 1548.85 L440.777 1548.85 L440.777 1544.91 Q443.439 1542.16 448.023 1537.53 Q452.629 1532.88 453.81 1531.53 Q456.055 1529.01 456.935 1527.27 Q457.837 1525.51 457.837 1523.82 Q457.837 1521.07 455.893 1519.33 Q453.972 1517.6 450.87 1517.6 Q448.671 1517.6 446.217 1518.36 Q443.786 1519.13 441.009 1520.68 L441.009 1515.95 Q443.833 1514.82 446.286 1514.24 Q448.74 1513.66 450.777 1513.66 Q456.147 1513.66 459.342 1516.35 Q462.536 1519.03 462.536 1523.52 Q462.536 1525.65 461.726 1527.57 Q460.939 1529.47 458.833 1532.07 Q458.254 1532.74 455.152 1535.95 Q452.05 1539.15 446.402 1544.91 Z\" fill=\"#000000\" fill-rule=\"evenodd\" fill-opacity=\"1\" /><path clip-path=\"url(#clip100)\" d=\"M991.815 1517.37 Q988.204 1517.37 986.375 1520.93 Q984.57 1524.47 984.57 1531.6 Q984.57 1538.71 986.375 1542.27 Q988.204 1545.82 991.815 1545.82 Q995.449 1545.82 997.255 1542.27 Q999.083 1538.71 999.083 1531.6 Q999.083 1524.47 997.255 1520.93 Q995.449 1517.37 991.815 1517.37 M991.815 1513.66 Q997.625 1513.66 1000.68 1518.27 Q1003.76 1522.85 1003.76 1531.6 Q1003.76 1540.33 1000.68 1544.94 Q997.625 1549.52 991.815 1549.52 Q986.005 1549.52 982.926 1544.94 Q979.87 1540.33 979.87 1531.6 Q979.87 1522.85 982.926 1518.27 Q986.005 1513.66 991.815 1513.66 Z\" fill=\"#000000\" fill-rule=\"evenodd\" fill-opacity=\"1\" /><path clip-path=\"url(#clip100)\" d=\"M1011.98 1542.97 L1016.86 1542.97 L1016.86 1548.85 L1011.98 1548.85 L1011.98 1542.97 Z\" fill=\"#000000\" fill-rule=\"evenodd\" fill-opacity=\"1\" /><path clip-path=\"url(#clip100)\" d=\"M1039.89 1518.36 L1028.09 1536.81 L1039.89 1536.81 L1039.89 1518.36 M1038.67 1514.29 L1044.55 1514.29 L1044.55 1536.81 L1049.48 1536.81 L1049.48 1540.7 L1044.55 1540.7 L1044.55 1548.85 L1039.89 1548.85 L1039.89 1540.7 L1024.29 1540.7 L1024.29 1536.19 L1038.67 1514.29 Z\" fill=\"#000000\" fill-rule=\"evenodd\" fill-opacity=\"1\" /><path clip-path=\"url(#clip100)\" d=\"M1577.69 1517.37 Q1574.08 1517.37 1572.25 1520.93 Q1570.44 1524.47 1570.44 1531.6 Q1570.44 1538.71 1572.25 1542.27 Q1574.08 1545.82 1577.69 1545.82 Q1581.32 1545.82 1583.13 1542.27 Q1584.96 1538.71 1584.96 1531.6 Q1584.96 1524.47 1583.13 1520.93 Q1581.32 1517.37 1577.69 1517.37 M1577.69 1513.66 Q1583.5 1513.66 1586.56 1518.27 Q1589.63 1522.85 1589.63 1531.6 Q1589.63 1540.33 1586.56 1544.94 Q1583.5 1549.52 1577.69 1549.52 Q1571.88 1549.52 1568.8 1544.94 Q1565.75 1540.33 1565.75 1531.6 Q1565.75 1522.85 1568.8 1518.27 Q1571.88 1513.66 1577.69 1513.66 Z\" fill=\"#000000\" fill-rule=\"evenodd\" fill-opacity=\"1\" /><path clip-path=\"url(#clip100)\" d=\"M1597.85 1542.97 L1602.74 1542.97 L1602.74 1548.85 L1597.85 1548.85 L1597.85 1542.97 Z\" fill=\"#000000\" fill-rule=\"evenodd\" fill-opacity=\"1\" /><path clip-path=\"url(#clip100)\" d=\"M1623.5 1529.7 Q1620.35 1529.7 1618.5 1531.86 Q1616.67 1534.01 1616.67 1537.76 Q1616.67 1541.49 1618.5 1543.66 Q1620.35 1545.82 1623.5 1545.82 Q1626.65 1545.82 1628.48 1543.66 Q1630.33 1541.49 1630.33 1537.76 Q1630.33 1534.01 1628.48 1531.86 Q1626.65 1529.7 1623.5 1529.7 M1632.78 1515.05 L1632.78 1519.31 Q1631.02 1518.48 1629.22 1518.04 Q1627.44 1517.6 1625.68 1517.6 Q1621.05 1517.6 1618.59 1520.72 Q1616.16 1523.85 1615.82 1530.17 Q1617.18 1528.15 1619.24 1527.09 Q1621.3 1526 1623.78 1526 Q1628.99 1526 1632 1529.17 Q1635.03 1532.32 1635.03 1537.76 Q1635.03 1543.08 1631.88 1546.3 Q1628.73 1549.52 1623.5 1549.52 Q1617.5 1549.52 1614.33 1544.94 Q1611.16 1540.33 1611.16 1531.6 Q1611.16 1523.41 1615.05 1518.55 Q1618.94 1513.66 1625.49 1513.66 Q1627.25 1513.66 1629.03 1514.01 Q1630.84 1514.36 1632.78 1515.05 Z\" fill=\"#000000\" fill-rule=\"evenodd\" fill-opacity=\"1\" /><path clip-path=\"url(#clip100)\" d=\"M2163.53 1517.37 Q2159.92 1517.37 2158.09 1520.93 Q2156.29 1524.47 2156.29 1531.6 Q2156.29 1538.71 2158.09 1542.27 Q2159.92 1545.82 2163.53 1545.82 Q2167.17 1545.82 2168.97 1542.27 Q2170.8 1538.71 2170.8 1531.6 Q2170.8 1524.47 2168.97 1520.93 Q2167.17 1517.37 2163.53 1517.37 M2163.53 1513.66 Q2169.34 1513.66 2172.4 1518.27 Q2175.48 1522.85 2175.48 1531.6 Q2175.48 1540.33 2172.4 1544.94 Q2169.34 1549.52 2163.53 1549.52 Q2157.72 1549.52 2154.64 1544.94 Q2151.59 1540.33 2151.59 1531.6 Q2151.59 1522.85 2154.64 1518.27 Q2157.72 1513.66 2163.53 1513.66 Z\" fill=\"#000000\" fill-rule=\"evenodd\" fill-opacity=\"1\" /><path clip-path=\"url(#clip100)\" d=\"M2183.69 1542.97 L2188.58 1542.97 L2188.58 1548.85 L2183.69 1548.85 L2183.69 1542.97 Z\" fill=\"#000000\" fill-rule=\"evenodd\" fill-opacity=\"1\" /><path clip-path=\"url(#clip100)\" d=\"M2208.76 1532.44 Q2205.43 1532.44 2203.51 1534.22 Q2201.61 1536 2201.61 1539.13 Q2201.61 1542.25 2203.51 1544.03 Q2205.43 1545.82 2208.76 1545.82 Q2212.1 1545.82 2214.02 1544.03 Q2215.94 1542.23 2215.94 1539.13 Q2215.94 1536 2214.02 1534.22 Q2212.12 1532.44 2208.76 1532.44 M2204.09 1530.45 Q2201.08 1529.7 2199.39 1527.64 Q2197.72 1525.58 2197.72 1522.62 Q2197.72 1518.48 2200.66 1516.07 Q2203.62 1513.66 2208.76 1513.66 Q2213.92 1513.66 2216.86 1516.07 Q2219.8 1518.48 2219.8 1522.62 Q2219.8 1525.58 2218.11 1527.64 Q2216.45 1529.7 2213.46 1530.45 Q2216.84 1531.23 2218.72 1533.52 Q2220.61 1535.82 2220.61 1539.13 Q2220.61 1544.15 2217.54 1546.83 Q2214.48 1549.52 2208.76 1549.52 Q2203.04 1549.52 2199.97 1546.83 Q2196.91 1544.15 2196.91 1539.13 Q2196.91 1535.82 2198.81 1533.52 Q2200.71 1531.23 2204.09 1530.45 M2202.37 1523.06 Q2202.37 1525.75 2204.04 1527.25 Q2205.73 1528.76 2208.76 1528.76 Q2211.77 1528.76 2213.46 1527.25 Q2215.17 1525.75 2215.17 1523.06 Q2215.17 1520.38 2213.46 1518.87 Q2211.77 1517.37 2208.76 1517.37 Q2205.73 1517.37 2204.04 1518.87 Q2202.37 1520.38 2202.37 1523.06 Z\" fill=\"#000000\" fill-rule=\"evenodd\" fill-opacity=\"1\" /><polyline clip-path=\"url(#clip102)\" style=\"stroke:#000000; stroke-linecap:round; stroke-linejoin:round; stroke-width:2; stroke-opacity:0.1; fill:none\" points=\"\n  112.177,1445.72 2352.76,1445.72 \n  \"/>\n<polyline clip-path=\"url(#clip102)\" style=\"stroke:#000000; stroke-linecap:round; stroke-linejoin:round; stroke-width:2; stroke-opacity:0.1; fill:none\" points=\"\n  112.177,1157.81 2352.76,1157.81 \n  \"/>\n<polyline clip-path=\"url(#clip102)\" style=\"stroke:#000000; stroke-linecap:round; stroke-linejoin:round; stroke-width:2; stroke-opacity:0.1; fill:none\" points=\"\n  112.177,869.91 2352.76,869.91 \n  \"/>\n<polyline clip-path=\"url(#clip102)\" style=\"stroke:#000000; stroke-linecap:round; stroke-linejoin:round; stroke-width:2; stroke-opacity:0.1; fill:none\" points=\"\n  112.177,582.006 2352.76,582.006 \n  \"/>\n<polyline clip-path=\"url(#clip102)\" style=\"stroke:#000000; stroke-linecap:round; stroke-linejoin:round; stroke-width:2; stroke-opacity:0.1; fill:none\" points=\"\n  112.177,294.103 2352.76,294.103 \n  \"/>\n<polyline clip-path=\"url(#clip100)\" style=\"stroke:#000000; stroke-linecap:round; stroke-linejoin:round; stroke-width:4; stroke-opacity:1; fill:none\" points=\"\n  112.177,1486.45 112.177,47.2441 \n  \"/>\n<polyline clip-path=\"url(#clip100)\" style=\"stroke:#000000; stroke-linecap:round; stroke-linejoin:round; stroke-width:4; stroke-opacity:1; fill:none\" points=\"\n  112.177,1445.72 131.075,1445.72 \n  \"/>\n<polyline clip-path=\"url(#clip100)\" style=\"stroke:#000000; stroke-linecap:round; stroke-linejoin:round; stroke-width:4; stroke-opacity:1; fill:none\" points=\"\n  112.177,1157.81 131.075,1157.81 \n  \"/>\n<polyline clip-path=\"url(#clip100)\" style=\"stroke:#000000; stroke-linecap:round; stroke-linejoin:round; stroke-width:4; stroke-opacity:1; fill:none\" points=\"\n  112.177,869.91 131.075,869.91 \n  \"/>\n<polyline clip-path=\"url(#clip100)\" style=\"stroke:#000000; stroke-linecap:round; stroke-linejoin:round; stroke-width:4; stroke-opacity:1; fill:none\" points=\"\n  112.177,582.006 131.075,582.006 \n  \"/>\n<polyline clip-path=\"url(#clip100)\" style=\"stroke:#000000; stroke-linecap:round; stroke-linejoin:round; stroke-width:4; stroke-opacity:1; fill:none\" points=\"\n  112.177,294.103 131.075,294.103 \n  \"/>\n<path clip-path=\"url(#clip100)\" d=\"M64.2328 1431.51 Q60.6217 1431.51 58.793 1435.08 Q56.9875 1438.62 56.9875 1445.75 Q56.9875 1452.86 58.793 1456.42 Q60.6217 1459.96 64.2328 1459.96 Q67.867 1459.96 69.6726 1456.42 Q71.5013 1452.86 71.5013 1445.75 Q71.5013 1438.62 69.6726 1435.08 Q67.867 1431.51 64.2328 1431.51 M64.2328 1427.81 Q70.0429 1427.81 73.0985 1432.42 Q76.1772 1437 76.1772 1445.75 Q76.1772 1454.48 73.0985 1459.08 Q70.0429 1463.67 64.2328 1463.67 Q58.4226 1463.67 55.344 1459.08 Q52.2884 1454.48 52.2884 1445.75 Q52.2884 1437 55.344 1432.42 Q58.4226 1427.81 64.2328 1427.81 Z\" fill=\"#000000\" fill-rule=\"evenodd\" fill-opacity=\"1\" /><path clip-path=\"url(#clip100)\" d=\"M56.2699 1171.16 L63.9087 1171.16 L63.9087 1144.79 L55.5986 1146.46 L55.5986 1142.2 L63.8624 1140.53 L68.5383 1140.53 L68.5383 1171.16 L76.1772 1171.16 L76.1772 1175.09 L56.2699 1175.09 L56.2699 1171.16 Z\" fill=\"#000000\" fill-rule=\"evenodd\" fill-opacity=\"1\" /><path clip-path=\"url(#clip100)\" d=\"M59.8578 883.255 L76.1772 883.255 L76.1772 887.19 L54.2328 887.19 L54.2328 883.255 Q56.8949 880.5 61.4782 875.87 Q66.0846 871.218 67.2652 869.875 Q69.5105 867.352 70.3902 865.616 Q71.2929 863.856 71.2929 862.167 Q71.2929 859.412 69.3485 857.676 Q67.4272 855.94 64.3254 855.94 Q62.1263 855.94 59.6726 856.704 Q57.2421 857.468 54.4643 859.019 L54.4643 854.296 Q57.2884 853.162 59.7421 852.583 Q62.1958 852.005 64.2328 852.005 Q69.6031 852.005 72.7976 854.69 Q75.992 857.375 75.992 861.866 Q75.992 863.995 75.1818 865.917 Q74.3948 867.815 72.2883 870.407 Q71.7096 871.079 68.6078 874.296 Q65.5059 877.491 59.8578 883.255 Z\" fill=\"#000000\" fill-rule=\"evenodd\" fill-opacity=\"1\" /><path clip-path=\"url(#clip100)\" d=\"M69.0476 580.652 Q72.404 581.37 74.279 583.638 Q76.1772 585.907 76.1772 589.24 Q76.1772 594.356 72.6587 597.157 Q69.1402 599.958 62.6587 599.958 Q60.4828 599.958 58.168 599.518 Q55.8764 599.101 53.4227 598.245 L53.4227 593.731 Q55.3671 594.865 57.6819 595.444 Q59.9967 596.023 62.5198 596.023 Q66.918 596.023 69.2096 594.286 Q71.5244 592.55 71.5244 589.24 Q71.5244 586.185 69.3717 584.472 Q67.242 582.736 63.4226 582.736 L59.3949 582.736 L59.3949 578.893 L63.6078 578.893 Q67.0569 578.893 68.8855 577.527 Q70.7142 576.138 70.7142 573.546 Q70.7142 570.884 68.8161 569.472 Q66.9411 568.037 63.4226 568.037 Q61.5013 568.037 59.3023 568.453 Q57.1032 568.87 54.4643 569.75 L54.4643 565.583 Q57.1264 564.842 59.4412 564.472 Q61.7791 564.101 63.8393 564.101 Q69.1633 564.101 72.2652 566.532 Q75.367 568.939 75.367 573.06 Q75.367 575.93 73.7235 577.921 Q72.08 579.888 69.0476 580.652 Z\" fill=\"#000000\" fill-rule=\"evenodd\" fill-opacity=\"1\" /><path clip-path=\"url(#clip100)\" d=\"M66.5939 280.897 L54.7884 299.346 L66.5939 299.346 L66.5939 280.897 M65.367 276.823 L71.2466 276.823 L71.2466 299.346 L76.1772 299.346 L76.1772 303.235 L71.2466 303.235 L71.2466 311.383 L66.5939 311.383 L66.5939 303.235 L50.9921 303.235 L50.9921 298.721 L65.367 276.823 Z\" fill=\"#000000\" fill-rule=\"evenodd\" fill-opacity=\"1\" /><polyline clip-path=\"url(#clip102)\" style=\"stroke:#009af9; stroke-linecap:round; stroke-linejoin:round; stroke-width:4; stroke-opacity:1; fill:none\" points=\"\n  175.59,1445.72 186.212,1445.71 196.834,1445.71 207.455,1445.7 218.077,1445.67 228.699,1445.61 239.321,1445.5 249.943,1445.32 260.565,1445.09 271.187,1444.84 \n  281.809,1444.64 292.43,1444.56 303.052,1444.6 313.674,1444.73 324.296,1444.86 334.918,1444.88 345.54,1444.71 356.162,1444.34 366.784,1443.8 377.405,1443.23 \n  388.027,1442.77 398.649,1442.56 409.271,1442.69 419.893,1443.11 430.515,1443.72 441.137,1444.33 451.759,1444.81 462.38,1445.07 473.002,1445.07 483.624,1444.78 \n  494.246,1444.2 504.868,1443.31 515.49,1442.12 526.112,1440.68 536.734,1439.02 547.355,1437.24 557.977,1435.42 568.599,1433.71 579.221,1432.25 589.843,1431.08 \n  600.465,1430.06 611.087,1428.85 621.709,1427.03 632.33,1424.3 642.952,1420.74 653.574,1416.87 664.196,1413.46 674.818,1411.17 685.44,1410.2 696.062,1410.12 \n  706.684,1410.03 717.306,1408.94 727.927,1406.21 738.549,1401.76 749.171,1396.12 759.793,1390.06 770.415,1384.24 781.037,1378.96 791.659,1374.08 802.281,1369.15 \n  812.902,1363.63 823.524,1357.07 834.146,1349.5 844.768,1341.42 855.39,1333.67 866.012,1326.92 876.634,1321.24 887.256,1315.94 897.877,1309.91 908.499,1302.11 \n  919.121,1292.06 929.743,1280.02 940.365,1266.77 950.987,1253.15 961.609,1239.68 972.231,1226.53 982.852,1213.63 993.474,1200.9 1004.1,1188.15 1014.72,1174.93 \n  1025.34,1160.48 1035.96,1144.05 1046.58,1125.43 1057.21,1105.19 1067.83,1084.62 1078.45,1064.99 1089.07,1046.81 1099.69,1029.33 1110.31,1010.87 1120.94,989.615 \n  1131.56,964.478 1142.18,935.572 1152.8,904.062 1163.42,871.738 1174.05,840.552 1184.67,812.192 1195.29,787.584 1205.91,766.412 1216.53,747.023 1227.16,727.001 \n  1237.78,704.158 1248.4,677.313 1259.02,646.439 1269.64,612.339 1280.26,576.358 1290.89,540.316 1301.51,506.367 1312.13,476.418 1322.75,451.255 1333.37,430.045 \n  1344,410.798 1354.62,391.586 1365.24,371.579 1375.86,351.097 1386.48,330.784 1397.11,310.858 1407.73,291.133 1418.35,271.611 1428.97,252.87 1439.59,235.828 \n  1450.22,221.196 1460.84,209.116 1471.46,199.094 1482.08,190.1 1492.7,180.789 1503.32,169.99 1513.95,157.289 1524.57,143.251 1535.19,128.97 1545.81,115.396 \n  1556.43,103.183 1567.06,93.3415 1577.68,87.9763 1588.3,90.1143 1598.92,102.357 1609.54,125.176 1620.17,156.11 1630.79,190.518 1641.41,223.533 1652.03,252.136 \n  1662.65,276.247 1673.27,298.32 1683.9,321.809 1694.52,349.475 1705.14,382.531 1715.76,420.875 1726.38,463.858 1737.01,510.717 1747.63,560.352 1758.25,610.917 \n  1768.87,659.999 1779.49,705.585 1790.12,747.166 1800.74,786.022 1811.36,824.35 1821.98,863.822 1832.6,904.635 1843.22,945.678 1853.85,985.515 1864.47,1023.29 \n  1875.09,1058.95 1885.71,1092.82 1896.33,1125.17 1906.96,1156.1 1917.58,1185.67 1928.2,1214.05 1938.82,1241.35 1949.44,1267.4 1960.07,1291.68 1970.69,1313.43 \n  1981.31,1332.05 1991.93,1347.38 2002.55,1359.71 2013.17,1369.68 2023.8,1378.01 2034.42,1385.37 2045.04,1392.29 2055.66,1399.08 2066.28,1405.87 2076.91,1412.6 \n  2087.53,1419.1 2098.15,1425.14 2108.77,1430.46 2119.39,1434.84 2130.02,1438.14 2140.64,1440.37 2151.26,1441.72 2161.88,1442.49 2172.5,1443.03 2183.12,1443.53 \n  2193.75,1444.06 2204.37,1444.59 2214.99,1445.03 2225.61,1445.35 2236.23,1445.54 2246.86,1445.64 2257.48,1445.69 2268.1,1445.71 2278.72,1445.71 2289.34,1445.72 \n  \n  \"/>\n<path clip-path=\"url(#clip100)\" d=\"\nM1774.85 198.898 L2278.07 198.898 L2278.07 95.2176 L1774.85 95.2176  Z\n  \" fill=\"#ffffff\" fill-rule=\"evenodd\" fill-opacity=\"1\"/>\n<polyline clip-path=\"url(#clip100)\" style=\"stroke:#000000; stroke-linecap:round; stroke-linejoin:round; stroke-width:4; stroke-opacity:1; fill:none\" points=\"\n  1774.85,198.898 2278.07,198.898 2278.07,95.2176 1774.85,95.2176 1774.85,198.898 \n  \"/>\n<polyline clip-path=\"url(#clip100)\" style=\"stroke:#009af9; stroke-linecap:round; stroke-linejoin:round; stroke-width:4; stroke-opacity:1; fill:none\" points=\"\n  1799.74,147.058 1949.11,147.058 \n  \"/>\n<path clip-path=\"url(#clip100)\" d=\"M1974.01 129.778 L1978.73 129.778 L1986 158.99 L1993.25 129.778 L1998.5 129.778 L2005.77 158.99 L2013.01 129.778 L2017.76 129.778 L2009.08 164.338 L2003.2 164.338 L1995.91 134.338 L1988.55 164.338 L1982.67 164.338 L1974.01 129.778 Z\" fill=\"#000000\" fill-rule=\"evenodd\" fill-opacity=\"1\" /><path clip-path=\"url(#clip100)\" d=\"M2022.74 138.412 L2027 138.412 L2027 164.338 L2022.74 164.338 L2022.74 138.412 M2022.74 128.319 L2027 128.319 L2027 133.713 L2022.74 133.713 L2022.74 128.319 Z\" fill=\"#000000\" fill-rule=\"evenodd\" fill-opacity=\"1\" /><path clip-path=\"url(#clip100)\" d=\"M2057.46 148.689 L2057.46 164.338 L2053.2 164.338 L2053.2 148.828 Q2053.2 145.148 2051.76 143.319 Q2050.33 141.49 2047.46 141.49 Q2044.01 141.49 2042.02 143.69 Q2040.03 145.889 2040.03 149.685 L2040.03 164.338 L2035.75 164.338 L2035.75 138.412 L2040.03 138.412 L2040.03 142.44 Q2041.56 140.102 2043.62 138.944 Q2045.7 137.787 2048.41 137.787 Q2052.87 137.787 2055.17 140.565 Q2057.46 143.319 2057.46 148.689 Z\" fill=\"#000000\" fill-rule=\"evenodd\" fill-opacity=\"1\" /><path clip-path=\"url(#clip100)\" d=\"M2083.01 142.347 L2083.01 128.319 L2087.27 128.319 L2087.27 164.338 L2083.01 164.338 L2083.01 160.449 Q2081.67 162.763 2079.61 163.898 Q2077.57 165.009 2074.7 165.009 Q2070 165.009 2067.04 161.259 Q2064.1 157.509 2064.1 151.398 Q2064.1 145.287 2067.04 141.537 Q2070 137.787 2074.7 137.787 Q2077.57 137.787 2079.61 138.921 Q2081.67 140.032 2083.01 142.347 M2068.5 151.398 Q2068.5 156.097 2070.42 158.782 Q2072.37 161.444 2075.75 161.444 Q2079.12 161.444 2081.07 158.782 Q2083.01 156.097 2083.01 151.398 Q2083.01 146.699 2081.07 144.037 Q2079.12 141.352 2075.75 141.352 Q2072.37 141.352 2070.42 144.037 Q2068.5 146.699 2068.5 151.398 Z\" fill=\"#000000\" fill-rule=\"evenodd\" fill-opacity=\"1\" /><path clip-path=\"url(#clip100)\" d=\"M2115.24 160.449 L2115.24 174.199 L2110.95 174.199 L2110.95 138.412 L2115.24 138.412 L2115.24 142.347 Q2116.58 140.032 2118.62 138.921 Q2120.68 137.787 2123.52 137.787 Q2128.24 137.787 2131.18 141.537 Q2134.15 145.287 2134.15 151.398 Q2134.15 157.509 2131.18 161.259 Q2128.24 165.009 2123.52 165.009 Q2120.68 165.009 2118.62 163.898 Q2116.58 162.763 2115.24 160.449 M2129.73 151.398 Q2129.73 146.699 2127.78 144.037 Q2125.86 141.352 2122.48 141.352 Q2119.1 141.352 2117.16 144.037 Q2115.24 146.699 2115.24 151.398 Q2115.24 156.097 2117.16 158.782 Q2119.1 161.444 2122.48 161.444 Q2125.86 161.444 2127.78 158.782 Q2129.73 156.097 2129.73 151.398 Z\" fill=\"#000000\" fill-rule=\"evenodd\" fill-opacity=\"1\" /><path clip-path=\"url(#clip100)\" d=\"M2151.25 141.398 Q2147.83 141.398 2145.84 144.083 Q2143.85 146.745 2143.85 151.398 Q2143.85 156.051 2145.81 158.736 Q2147.8 161.398 2151.25 161.398 Q2154.66 161.398 2156.65 158.713 Q2158.64 156.027 2158.64 151.398 Q2158.64 146.791 2156.65 144.106 Q2154.66 141.398 2151.25 141.398 M2151.25 137.787 Q2156.81 137.787 2159.98 141.398 Q2163.15 145.009 2163.15 151.398 Q2163.15 157.764 2159.98 161.398 Q2156.81 165.009 2151.25 165.009 Q2145.68 165.009 2142.5 161.398 Q2139.36 157.764 2139.36 151.398 Q2139.36 145.009 2142.5 141.398 Q2145.68 137.787 2151.25 137.787 Z\" fill=\"#000000\" fill-rule=\"evenodd\" fill-opacity=\"1\" /><path clip-path=\"url(#clip100)\" d=\"M2167.74 138.412 L2171.99 138.412 L2177.32 158.643 L2182.62 138.412 L2187.64 138.412 L2192.97 158.643 L2198.27 138.412 L2202.53 138.412 L2195.74 164.338 L2190.72 164.338 L2185.14 143.088 L2179.54 164.338 L2174.52 164.338 L2167.74 138.412 Z\" fill=\"#000000\" fill-rule=\"evenodd\" fill-opacity=\"1\" /><path clip-path=\"url(#clip100)\" d=\"M2231.16 150.31 L2231.16 152.393 L2211.58 152.393 Q2211.86 156.791 2214.22 159.106 Q2216.6 161.398 2220.84 161.398 Q2223.29 161.398 2225.58 160.796 Q2227.9 160.194 2230.17 158.99 L2230.17 163.018 Q2227.87 163.99 2225.47 164.5 Q2223.06 165.009 2220.58 165.009 Q2214.38 165.009 2210.74 161.398 Q2207.13 157.787 2207.13 151.629 Q2207.13 145.264 2210.56 141.537 Q2214.01 137.787 2219.84 137.787 Q2225.07 137.787 2228.11 141.166 Q2231.16 144.523 2231.16 150.31 M2226.9 149.06 Q2226.86 145.565 2224.93 143.481 Q2223.04 141.398 2219.89 141.398 Q2216.32 141.398 2214.17 143.412 Q2212.04 145.426 2211.72 149.083 L2226.9 149.06 Z\" fill=\"#000000\" fill-rule=\"evenodd\" fill-opacity=\"1\" /><path clip-path=\"url(#clip100)\" d=\"M2253.17 142.393 Q2252.46 141.977 2251.6 141.791 Q2250.77 141.583 2249.75 141.583 Q2246.14 141.583 2244.19 143.944 Q2242.27 146.282 2242.27 150.68 L2242.27 164.338 L2237.99 164.338 L2237.99 138.412 L2242.27 138.412 L2242.27 142.44 Q2243.61 140.078 2245.77 138.944 Q2247.92 137.787 2251 137.787 Q2251.44 137.787 2251.97 137.856 Q2252.5 137.903 2253.15 138.018 L2253.17 142.393 Z\" fill=\"#000000\" fill-rule=\"evenodd\" fill-opacity=\"1\" /></svg>\n"
     },
     "execution_count": 34,
     "metadata": {},
     "output_type": "execute_result"
    }
   ],
   "source": [
    "# Exemplary density function of Monte Carlo Scenarios, Exemplary first hour of zone 2\n",
    "density(MonteCarlo_scenarios[2][1][1,:], bandwidth= 0.01,label=\"Wind power\")    # [row,column]"
   ]
  },
  {
   "cell_type": "code",
   "execution_count": 39,
   "metadata": {},
   "outputs": [
    {
     "data": {
      "text/plain": [
       "4-element Vector{DataFrame}:\n",
       " \u001b[1m43×10000 DataFrame\u001b[0m\n",
       "\u001b[1m Row \u001b[0m│\u001b[1m x1       \u001b[0m\u001b[1m x2       \u001b[0m\u001b[1m x3       \u001b[0m\u001b[1m x4       \u001b[0m\u001b[1m x5        \u001b[0m\u001b[1m x6        \u001b[0m\u001b[1m x7       \u001b[0m ⋯\n",
       "     │\u001b[90m Float64  \u001b[0m\u001b[90m Float64  \u001b[0m\u001b[90m Float64  \u001b[0m\u001b[90m Float64  \u001b[0m\u001b[90m Float64   \u001b[0m\u001b[90m Float64   \u001b[0m\u001b[90m Float64  \u001b[0m ⋯\n",
       "─────┼──────────────────────────────────────────────────────────────────────────\n",
       "   1 │ 0.615116  0.60181   0.550646  0.600934  0.326454   0.454388   0.589879  ⋯\n",
       "   2 │ 0.741629  0.665886  0.646994  0.668833  0.736526   0.705735   0.545179\n",
       "   3 │ 0.635554  0.671347  0.714395  0.712411  0.713202   0.754408   0.7571\n",
       "   4 │ 0.724882  0.754956  0.739843  0.782722  0.774017   0.725696   0.765659\n",
       "   5 │ 0.6719    0.78875   0.793287  0.731209  0.691093   0.740686   0.707929  ⋯\n",
       "   6 │ 0.783464  0.628358  0.743724  0.609255  0.776436   0.800299   0.761484\n",
       "   7 │ 0.754327  0.658969  0.562199  0.715923  0.764235   0.765434   0.791771\n",
       "   8 │ 0.7243    0.617891  0.716919  0.799957  0.782003   0.749195   0.662735\n",
       "   9 │ 0.817351  0.743822  0.739918  0.792623  0.771884   0.745543   0.722933  ⋯\n",
       "  10 │ 0.697785  0.541928  0.715083  0.822009  0.687654   0.680153   0.760274\n",
       "  11 │ 0.689344  0.718762  0.759609  0.796561  0.650655   0.796942   0.809202\n",
       "  ⋮  │    ⋮         ⋮         ⋮         ⋮          ⋮          ⋮          ⋮     ⋱\n",
       "  34 │ 0.259079  0.333629  0.221816  0.239272  0.325363   0.211402   0.441949\n",
       "  35 │ 0.223599  0.240361  0.307378  0.439571  0.227084   0.28626    0.23156   ⋯\n",
       "  36 │ 0.284748  0.453261  0.326128  0.225253  0.200017   0.264276   0.349472\n",
       "  37 │ 0.120071  0.388765  0.290374  0.281348  0.290188   0.259466   0.2209\n",
       "  38 │ 0.296437  0.124019  0.319373  0.268176  0.399056   0.206161   0.202256\n",
       "  39 │ 0.241826  0.338763  0.224876  0.267438  0.099985   0.155407   0.146508  ⋯\n",
       "  40 │ 0.162831  0.387722  0.172516  0.26277   0.155467   0.171242   0.201297\n",
       "  41 │ 0.288083  0.18152   0.191469  0.123817  0.20222    0.105697   0.0758119\n",
       "  42 │ 0.223516  0.248087  0.171629  0.048126  0.0881293  0.371552   0.22426\n",
       "  43 │ 0.23522   0.179559  0.121545  0.192695  0.17349    0.0775332  0.195791  ⋯\n",
       "\u001b[36m                                                9993 columns and 22 rows omitted\u001b[0m\n",
       " \u001b[1m43×10000 DataFrame\u001b[0m\n",
       "\u001b[1m Row \u001b[0m│\u001b[1m x1        \u001b[0m\u001b[1m x2        \u001b[0m\u001b[1m x3         \u001b[0m\u001b[1m x4         \u001b[0m\u001b[1m x5         \u001b[0m\u001b[1m x6         \u001b[0m\u001b[1m x\u001b[0m ⋯\n",
       "     │\u001b[90m Float64   \u001b[0m\u001b[90m Float64   \u001b[0m\u001b[90m Float64    \u001b[0m\u001b[90m Float64    \u001b[0m\u001b[90m Float64    \u001b[0m\u001b[90m Float64    \u001b[0m\u001b[90m F\u001b[0m ⋯\n",
       "─────┼──────────────────────────────────────────────────────────────────────────\n",
       "   1 │ 0.640224   0.549764   0.631303    0.518233    0.533285    0.634328    0 ⋯\n",
       "   2 │ 0.496949   0.679459   0.629714    0.658101    0.619986    0.66296     0\n",
       "   3 │ 0.602099   0.641428   0.686503    0.590309    0.625807    0.652835    0\n",
       "   4 │ 0.67788    0.666499   0.623795    0.794775    0.70917     0.636747    0\n",
       "   5 │ 0.683091   0.627547   0.715696    0.378589    0.671232    0.717479    0 ⋯\n",
       "   6 │ 0.723244   0.680458   0.669392    0.751342    0.702354    0.703654    0\n",
       "   7 │ 0.626741   0.661188   0.693894    0.773428    0.860307    0.750607    0\n",
       "   8 │ 0.685692   0.58051    0.683804    0.634535    0.685407    0.756111    0\n",
       "   9 │ 0.72228    0.63388    0.58678     0.691195    0.7579      0.701114    0 ⋯\n",
       "  10 │ 0.673097   0.719435   0.702107    0.779954    0.631276    0.747109    0\n",
       "  11 │ 0.764152   0.699634   0.767023    0.568016    0.693594    0.715393    0\n",
       "  ⋮  │     ⋮          ⋮          ⋮           ⋮           ⋮           ⋮         ⋱\n",
       "  34 │ 0.269951   0.351397   0.289699    0.134939    0.165426    0.221205    0\n",
       "  35 │ 0.0995709  0.16349    0.196543    0.0220154   0.395498    0.325009    0 ⋯\n",
       "  36 │ 0.11313    0.0432758  0.164994    0.0769372   0.249842    0.0526557   0\n",
       "  37 │ 0.14498    0.122867   0.00692115  0.0502839   0.231526    0.184341    0\n",
       "  38 │ 0.0549508  0.112958   0.140291    0.210144    0.195617    0.190486    0\n",
       "  39 │ 0.291634   0.138934   0.0463681   0.15802     0.0457479   0.0705558   0 ⋯\n",
       "  40 │ 0.0308181  0.0678953  0.0406413   0.0212295   0.11086     0.0443809   0\n",
       "  41 │ 0.22962    0.0440631  0.0614352   0.0528451   0.190442    0.11792     0\n",
       "  42 │ 0.0257265  0.0232921  0.0884439   0.0211285   0.0790363   0.118126    0\n",
       "  43 │ 0.0143815  0.0816856  0.0273568   0.00400607  0.00974771  0.00379339  0 ⋯\n",
       "\u001b[36m                                                9994 columns and 22 rows omitted\u001b[0m\n",
       " \u001b[1m43×10000 DataFrame\u001b[0m\n",
       "\u001b[1m Row \u001b[0m│\u001b[1m x1        \u001b[0m\u001b[1m x2        \u001b[0m\u001b[1m x3        \u001b[0m\u001b[1m x4        \u001b[0m\u001b[1m x5        \u001b[0m\u001b[1m x6        \u001b[0m\u001b[1m x7   \u001b[0m ⋯\n",
       "     │\u001b[90m Float64   \u001b[0m\u001b[90m Float64   \u001b[0m\u001b[90m Float64   \u001b[0m\u001b[90m Float64   \u001b[0m\u001b[90m Float64   \u001b[0m\u001b[90m Float64   \u001b[0m\u001b[90m Float\u001b[0m ⋯\n",
       "─────┼──────────────────────────────────────────────────────────────────────────\n",
       "   1 │ 0.407317   0.501675   0.386605   0.404161   0.420062   0.429718   0.479 ⋯\n",
       "   2 │ 0.529251   0.443353   0.615426   0.542763   0.515319   0.341556   0.470\n",
       "   3 │ 0.482079   0.51192    0.42661    0.484022   0.539443   0.549451   0.505\n",
       "   4 │ 0.549698   0.56584    0.603643   0.602738   0.637989   0.524241   0.578\n",
       "   5 │ 0.631324   0.640191   0.565671   0.516195   0.563879   0.46358    0.583 ⋯\n",
       "   6 │ 0.524819   0.561572   0.59079    0.596728   0.639779   0.559329   0.516\n",
       "   7 │ 0.671475   0.613325   0.56505    0.613792   0.588117   0.510817   0.612\n",
       "   8 │ 0.584793   0.652136   0.364708   0.607592   0.564401   0.628743   0.579\n",
       "   9 │ 0.413894   0.448805   0.6495     0.550595   0.646538   0.492412   0.489 ⋯\n",
       "  10 │ 0.557281   0.581846   0.500282   0.569558   0.563562   0.687969   0.620\n",
       "  11 │ 0.61608    0.538677   0.528369   0.558136   0.651838   0.583358   0.549\n",
       "  ⋮  │     ⋮          ⋮          ⋮          ⋮          ⋮          ⋮          ⋮ ⋱\n",
       "  34 │ 0.391739   0.207806   0.304947   0.0668991  0.15843    0.241222   0.141\n",
       "  35 │ 0.199437   0.339648   0.125239   0.145504   0.212993   0.0446084  0.098 ⋯\n",
       "  36 │ 0.0384613  0.219307   0.172963   0.131374   0.257538   0.112818   0.112\n",
       "  37 │ 0.12527    0.243124   0.0586738  0.275439   0.118096   0.221078   0.113\n",
       "  38 │ 0.153653   0.120591   0.166128   0.0682518  0.0630859  0.0306854  0.122\n",
       "  39 │ 0.125253   0.0469057  0.270953   0.0696457  0.0784948  0.0969091  0.093 ⋯\n",
       "  40 │ 0.116281   0.0413993  0.0597812  0.124202   0.0898764  0.0454366  0.104\n",
       "  41 │ 0.340694   0.0754678  0.222722   0.0143037  0.124428   0.129603   0.017\n",
       "  42 │ 0.0914533  0.0644548  0.115221   0.241672   0.104008   0.0701038  0.081\n",
       "  43 │ 0.0886768  0.0876175  0.0638342  0.0657456  0.109719   0.0188152  0.031 ⋯\n",
       "\u001b[36m                                                9994 columns and 22 rows omitted\u001b[0m\n",
       " \u001b[1m43×10000 DataFrame\u001b[0m\n",
       "\u001b[1m Row \u001b[0m│\u001b[1m x1        \u001b[0m\u001b[1m x2        \u001b[0m\u001b[1m x3         \u001b[0m\u001b[1m x4         \u001b[0m\u001b[1m x5        \u001b[0m\u001b[1m x6        \u001b[0m\u001b[1m x7 \u001b[0m ⋯\n",
       "     │\u001b[90m Float64   \u001b[0m\u001b[90m Float64   \u001b[0m\u001b[90m Float64    \u001b[0m\u001b[90m Float64    \u001b[0m\u001b[90m Float64   \u001b[0m\u001b[90m Float64   \u001b[0m\u001b[90m Flo\u001b[0m ⋯\n",
       "─────┼──────────────────────────────────────────────────────────────────────────\n",
       "   1 │ 0.488594   0.527286   0.531407    0.500745    0.32273    0.582008   0.5 ⋯\n",
       "   2 │ 0.384623   0.506154   0.581959    0.56036     0.529815   0.680143   0.4\n",
       "   3 │ 0.625465   0.643352   0.478242    0.546335    0.706238   0.563722   0.7\n",
       "   4 │ 0.645957   0.609438   0.632106    0.503871    0.712208   0.579778   0.5\n",
       "   5 │ 0.698979   0.708825   0.640274    0.719233    0.724038   0.620708   0.7 ⋯\n",
       "   6 │ 0.603203   0.700249   0.657348    0.596269    0.667813   0.642137   0.7\n",
       "   7 │ 0.635816   0.621229   0.665813    0.745067    0.691453   0.537691   0.7\n",
       "   8 │ 0.671179   0.660373   0.653054    0.567658    0.705133   0.70378    0.6\n",
       "   9 │ 0.713548   0.662193   0.624038    0.568927    0.436666   0.621935   0.6 ⋯\n",
       "  10 │ 0.659668   0.749887   0.666549    0.610607    0.678319   0.68508    0.7\n",
       "  11 │ 0.642486   0.631882   0.567605    0.596234    0.505318   0.693036   0.6\n",
       "  ⋮  │     ⋮          ⋮          ⋮           ⋮           ⋮          ⋮          ⋱\n",
       "  34 │ 0.37427    0.098323   0.325215    0.237047    0.250029   0.0510652  0.0\n",
       "  35 │ 0.0980215  0.166174   0.208534    0.125868    0.141361   0.312183   0.3 ⋯\n",
       "  36 │ 0.181275   0.126563   0.0891684   0.141878    0.0442707  0.155368   0.2\n",
       "  37 │ 0.0559823  0.0792792  0.113209    0.0968199   0.138317   0.0753344  0.0\n",
       "  38 │ 0.158627   0.0250442  0.13581     0.261305    0.192052   0.0515223  0.0\n",
       "  39 │ 0.187706   0.0585442  0.112478    0.0322375   0.0545126  0.0899412  0.0 ⋯\n",
       "  40 │ 0.031664   0.0667069  0.0179817   0.0555082   0.0149786  0.0177062  0.0\n",
       "  41 │ 0.154384   0.157148   0.0443882   0.0170508   0.051147   0.108769   0.0\n",
       "  42 │ 0.0207254  0.0854465  0.00842044  0.0637142   0.0018749  0.0256363  0.2\n",
       "  43 │ 0.0469647  0.0128128  0.0615543   0.00353994  0.0987407  0.0532149  0.0 ⋯\n",
       "\u001b[36m                                                9994 columns and 22 rows omitted\u001b[0m"
      ]
     },
     "execution_count": 39,
     "metadata": {},
     "output_type": "execute_result"
    }
   ],
   "source": [
    "# Transform the Monte Carlo Scenarios into four DataFrames and save them in one file\n",
    "Wind_data_scenarios = [(DataFrame(reduce(vcat, MonteCarlo_scenarios[1]), :auto)), (DataFrame(reduce(vcat, MonteCarlo_scenarios[2]), :auto)), \n",
    "DataFrame(reduce(vcat, MonteCarlo_scenarios[3]), :auto), (DataFrame(reduce(vcat, MonteCarlo_scenarios[4]), :auto))]"
   ]
  },
  {
   "cell_type": "code",
   "execution_count": 40,
   "metadata": {},
   "outputs": [],
   "source": [
    "# scale the data to fit our model\n",
    "forecast = [120.54, 115.52, 53.34, 38.16]\n",
    "\n",
    "counter = 1\n",
    "for s in Wind_data_scenarios\n",
    "    factor = forecast[counter]/(mean(mean(MonteCarlo_scenarios[counter])))\n",
    "    transform!(s,x -> x .* factor)\n",
    "    counter = counter + 1\n",
    "end\n"
   ]
  },
  {
   "cell_type": "code",
   "execution_count": 41,
   "metadata": {},
   "outputs": [
    {
     "data": {
      "text/plain": [
       "4-element Vector{DataFrame}:\n",
       " \u001b[1m43×10000 DataFrame\u001b[0m\n",
       "\u001b[1m Row \u001b[0m│\u001b[1m x1       \u001b[0m\u001b[1m x2       \u001b[0m\u001b[1m x3       \u001b[0m\u001b[1m x4       \u001b[0m\u001b[1m x5       \u001b[0m\u001b[1m x6       \u001b[0m\u001b[1m x7       \u001b[0m\u001b[1m x\u001b[0m ⋯\n",
       "     │\u001b[90m Float64  \u001b[0m\u001b[90m Float64  \u001b[0m\u001b[90m Float64  \u001b[0m\u001b[90m Float64  \u001b[0m\u001b[90m Float64  \u001b[0m\u001b[90m Float64  \u001b[0m\u001b[90m Float64  \u001b[0m\u001b[90m F\u001b[0m ⋯\n",
       "─────┼──────────────────────────────────────────────────────────────────────────\n",
       "   1 │ 145.282   142.139   130.055   141.932    77.1038  107.32    139.321   1 ⋯\n",
       "   2 │ 175.162   157.273   152.811   157.969   173.957   166.685   128.763   1\n",
       "   3 │ 150.109   158.563   168.73    168.261   168.448   178.181   178.816   1\n",
       "   4 │ 171.207   178.31    174.74    184.868   182.812   171.399   180.838   1\n",
       "   5 │ 158.693   186.291   187.363   172.701   163.226   174.939   167.203   1 ⋯\n",
       "   6 │ 185.043   148.409   175.657   143.897   183.383   189.019   179.852   1\n",
       "   7 │ 178.161   155.639   132.783   169.091   180.501   180.785   187.005   1\n",
       "   8 │ 171.069   145.937   169.326   188.938   184.698   176.949   156.529   1\n",
       "   9 │ 193.047   175.68    174.758   187.206   182.308   176.087   170.747   1 ⋯\n",
       "  10 │ 164.807   127.996   168.892   194.147   162.414   160.642   179.566   1\n",
       "  11 │ 162.813   169.761   179.409   188.136   153.675   188.226   191.122   1\n",
       "  ⋮  │    ⋮         ⋮         ⋮         ⋮         ⋮         ⋮         ⋮        ⋱\n",
       "  34 │  61.1908   78.7985   52.3898   56.5127   76.8461   49.9301  104.382\n",
       "  35 │  52.811    56.7699   72.5983  103.821    53.6339   67.6106   54.6911    ⋯\n",
       "  36 │  67.2534  107.054    77.0268   53.2015   47.2412   62.4182   82.5404\n",
       "  37 │  28.3591   91.8207   68.5823   66.4504   68.5382   61.2821   52.1733\n",
       "  38 │  70.0143   29.2915   75.4313   63.3394   94.2512   48.6922   47.7699\n",
       "  39 │  57.116    80.0111   53.1124   63.1651   23.615    36.7049   34.6031    ⋯\n",
       "  40 │  38.4585   91.5744   40.7459   62.0625   36.719    40.4449   47.5436\n",
       "  41 │  68.041    42.8725   45.2221   29.2438   47.7614   24.964    17.9057\n",
       "  42 │  52.7912   58.5946   40.5363   11.3667   20.8149   87.7552   52.967\n",
       "  43 │  55.5556   42.4092   28.7073   45.5118   40.9758   18.3122   46.243     ⋯\n",
       "\u001b[36m                                                9993 columns and 22 rows omitted\u001b[0m\n",
       " \u001b[1m43×10000 DataFrame\u001b[0m\n",
       "\u001b[1m Row \u001b[0m│\u001b[1m x1        \u001b[0m\u001b[1m x2        \u001b[0m\u001b[1m x3        \u001b[0m\u001b[1m x4        \u001b[0m\u001b[1m x5        \u001b[0m\u001b[1m x6         \u001b[0m\u001b[1m x7  \u001b[0m ⋯\n",
       "     │\u001b[90m Float64   \u001b[0m\u001b[90m Float64   \u001b[0m\u001b[90m Float64   \u001b[0m\u001b[90m Float64   \u001b[0m\u001b[90m Float64   \u001b[0m\u001b[90m Float64    \u001b[0m\u001b[90m Floa\u001b[0m ⋯\n",
       "─────┼──────────────────────────────────────────────────────────────────────────\n",
       "   1 │ 155.207    133.277    153.045    125.634    129.283    153.778     123. ⋯\n",
       "   2 │ 120.474    164.719    152.66     159.541    150.301    160.719     145.\n",
       "   3 │ 145.965    155.499    166.427    143.107    151.712    158.265     150.\n",
       "   4 │ 164.336    161.577    151.225    192.675    171.922    154.365     159.\n",
       "   5 │ 165.599    152.134    173.504     91.7801   162.725    173.936     147. ⋯\n",
       "   6 │ 175.334    164.961    162.279    182.145    170.269    170.585     144.\n",
       "   7 │ 151.939    160.29     168.218    187.5      208.561    181.967     156.\n",
       "   8 │ 166.23     140.731    165.772    153.828    166.161    183.302     168.\n",
       "   9 │ 175.1      153.669    142.251    167.564    183.735    169.969     179. ⋯\n",
       "  10 │ 163.177    174.41     170.21     189.082    153.038    181.119     182.\n",
       "  11 │ 185.251    169.61     185.947    137.702    168.146    173.43      161.\n",
       "  ⋮  │     ⋮          ⋮          ⋮          ⋮          ⋮          ⋮            ⋱\n",
       "  34 │  65.4434    85.1881    70.2307    32.7128    40.1037    53.626     110.\n",
       "  35 │  24.1386    39.6342    47.6473     5.33711   95.8793    78.7909     15. ⋯\n",
       "  36 │  27.4257    10.4912    39.9989    18.6516    60.5684    12.7652     29.\n",
       "  37 │  35.147     29.7863     1.67787   12.1902    56.1281    44.6892      9.\n",
       "  38 │  13.3216    27.3841    34.0103    50.9446    47.4227    46.1789      9.\n",
       "  39 │  70.6999    33.6812    11.2409    38.3082    11.0905    17.1046     27. ⋯\n",
       "  40 │   7.47114   16.4596     9.85253    5.1466    26.8753    10.7591     63.\n",
       "  41 │  55.6661    10.6821    14.8935    12.8111    46.1682    28.587      21.\n",
       "  42 │   6.2368     5.64664   21.4412     5.12212   19.1605    28.6368     29.\n",
       "  43 │   3.48646   19.8028     6.63202    0.97118    2.36311    0.919618   47. ⋯\n",
       "\u001b[36m                                                9994 columns and 22 rows omitted\u001b[0m\n",
       " \u001b[1m43×10000 DataFrame\u001b[0m\n",
       "\u001b[1m Row \u001b[0m│\u001b[1m x1       \u001b[0m\u001b[1m x2       \u001b[0m\u001b[1m x3       \u001b[0m\u001b[1m x4       \u001b[0m\u001b[1m x5       \u001b[0m\u001b[1m x6       \u001b[0m\u001b[1m x7       \u001b[0m\u001b[1m x\u001b[0m ⋯\n",
       "     │\u001b[90m Float64  \u001b[0m\u001b[90m Float64  \u001b[0m\u001b[90m Float64  \u001b[0m\u001b[90m Float64  \u001b[0m\u001b[90m Float64  \u001b[0m\u001b[90m Float64  \u001b[0m\u001b[90m Float64  \u001b[0m\u001b[90m F\u001b[0m ⋯\n",
       "─────┼──────────────────────────────────────────────────────────────────────────\n",
       "   1 │ 52.3612   64.491    49.6986   51.9555   53.9995   55.2408   61.6986   5 ⋯\n",
       "   2 │ 68.0359   56.9936   79.1139   69.7729   66.245    43.9075   60.456    6\n",
       "   3 │ 61.9719   65.808    54.8413   62.2217   69.3461   70.6327   65.0254   7\n",
       "   4 │ 70.6645   72.7395   77.5992   77.4828   82.0143   67.3919   74.3036   6\n",
       "   5 │ 81.1576   82.2974   72.7178   66.3576   72.4874   59.5938   74.9848   7 ⋯\n",
       "   6 │ 67.4662   72.1908   75.9469   76.7102   82.2444   71.9025   66.3899   7\n",
       "   7 │ 86.319    78.8438   72.638    78.9038   75.6033   65.6663   78.7762   6\n",
       "   8 │ 75.176    83.833    46.8837   78.1068   72.5545   80.8257   74.5272   7\n",
       "   9 │ 53.2067   57.6945   83.4941   70.7798   83.1134   63.3002   62.886    7 ⋯\n",
       "  10 │ 71.6393   74.7971   64.312    73.2175   72.4467   88.4394   79.7526   6\n",
       "  11 │ 79.198    69.2477   67.9226   71.7491   83.7947   74.9915   70.5749   7\n",
       "  ⋮  │    ⋮         ⋮         ⋮         ⋮         ⋮         ⋮         ⋮        ⋱\n",
       "  34 │ 50.3586   26.7137   39.2014    8.59997  20.3664   31.0095   18.1545   5\n",
       "  35 │ 25.638    43.6622   16.0996   18.7048   27.3805    5.73447  12.7039   5 ⋯\n",
       "  36 │  4.94426  28.1922   22.2346   16.8883   33.1068   14.5029   14.4142   5\n",
       "  37 │ 16.1037   31.2539    7.5426   35.4081   15.1814   28.4198   14.6024   2\n",
       "  38 │ 19.7523   15.5022   21.3559    8.77387   8.10979   3.94465  15.8104   1\n",
       "  39 │ 16.1014    6.02979  34.8314    8.95306  10.0906   12.4578   12.0534     ⋯\n",
       "  40 │ 14.9481    5.32194   7.68496  15.9663   11.5537    5.84094  13.3768   1\n",
       "  41 │ 43.7967    9.70149  28.6313    1.83877  15.9954   16.6606    2.22309\n",
       "  42 │ 11.7565    8.28576  14.8118   31.0673   13.3704    9.01194  10.4924\n",
       "  43 │ 11.3995   11.2634    8.20598   8.45169  14.1046    2.41873   4.10511    ⋯\n",
       "\u001b[36m                                                9993 columns and 22 rows omitted\u001b[0m\n",
       " \u001b[1m43×10000 DataFrame\u001b[0m\n",
       "\u001b[1m Row \u001b[0m│\u001b[1m x1       \u001b[0m\u001b[1m x2       \u001b[0m\u001b[1m x3       \u001b[0m\u001b[1m x4       \u001b[0m\u001b[1m x5        \u001b[0m\u001b[1m x6       \u001b[0m\u001b[1m x7        \u001b[0m\u001b[1m\u001b[0m ⋯\n",
       "     │\u001b[90m Float64  \u001b[0m\u001b[90m Float64  \u001b[0m\u001b[90m Float64  \u001b[0m\u001b[90m Float64  \u001b[0m\u001b[90m Float64   \u001b[0m\u001b[90m Float64  \u001b[0m\u001b[90m Float64   \u001b[0m\u001b[90m\u001b[0m ⋯\n",
       "─────┼──────────────────────────────────────────────────────────────────────────\n",
       "   1 │ 40.2158   43.4005   43.7397   41.216    26.5636    47.9046   49.1308    ⋯\n",
       "   2 │ 31.658    41.6612   47.9006   46.1228   43.6087    55.9821   38.0905\n",
       "   3 │ 51.4815   52.9539   39.3637   44.9684   58.1299    46.3995   57.6514\n",
       "   4 │ 53.1682   50.1623   52.0282   41.4732   58.6213    47.7211   47.8657\n",
       "   5 │ 57.5324   58.3429   52.7005   59.1995   59.595     51.09     58.7254    ⋯\n",
       "   6 │ 49.6492   57.637    54.1058   49.0784   54.9672    52.8538   58.0601\n",
       "   7 │ 52.3335   51.1329   54.8025   61.3259   56.913     44.2569   59.1161\n",
       "   8 │ 55.2442   54.3548   53.7524   46.7235   58.039     57.9276   49.6133\n",
       "   9 │ 58.7316   54.5046   51.3641   46.8279   35.9416    51.191    54.5456    ⋯\n",
       "  10 │ 54.2968   61.7226   54.8632   50.2586   55.8319    56.3884   58.4103\n",
       "  11 │ 52.8825   52.0097   46.7191   49.0756   41.5924    57.0433   53.8832\n",
       "  ⋮  │    ⋮         ⋮         ⋮         ⋮          ⋮         ⋮          ⋮      ⋱\n",
       "  34 │ 30.8059    8.09289  26.7682   19.5111   20.5797     4.20314   0.383572\n",
       "  35 │  8.06807  13.6776   17.1643   10.3601   11.6353    25.6955   27.6157    ⋯\n",
       "  36 │ 14.9206   10.4173    7.33938  11.6779    3.64389   12.7882   20.2618\n",
       "  37 │  4.60786   6.52541   9.31817   7.96917  11.3848     6.20072   5.95846\n",
       "  38 │ 13.0565    2.06137  11.1784   21.5078   15.8077     4.24076   3.16649\n",
       "  39 │ 15.4499    4.81873   9.25798   2.65344   4.48689    7.40299   5.08114   ⋯\n",
       "  40 │  2.60624   5.4906    1.48006   4.56884   1.23287    1.45738   0.383953\n",
       "  41 │ 12.7072   12.9347    3.65356   1.40344   4.20987    8.95272   6.22374\n",
       "  42 │  1.70589   7.03304   0.69308   5.24427   0.154322   2.11011  19.5126\n",
       "  43 │  3.86563   1.05461   5.06649   0.29137   8.12727    4.38008   4.26808   ⋯\n",
       "\u001b[36m                                                9993 columns and 22 rows omitted\u001b[0m"
      ]
     },
     "execution_count": 41,
     "metadata": {},
     "output_type": "execute_result"
    }
   ],
   "source": [
    "Wind_data_scenarios"
   ]
  },
  {
   "attachments": {},
   "cell_type": "markdown",
   "metadata": {},
   "source": [
    "### Scenario Reduction with KMeans"
   ]
  },
  {
   "cell_type": "code",
   "execution_count": 94,
   "metadata": {},
   "outputs": [],
   "source": [
    "scenarios = copy(Wind_data_scenarios)\n",
    "\n",
    "reduced_scenarios = [[], [], [], []]\n",
    "prob_of_scenarios = [[], [], [], []]\n",
    "\n",
    "c = 0\n",
    "for r in scenarios\n",
    "    c = c+1\n",
    "    zone = r\n",
    "    i = 0\n",
    "    for row in eachrow(zone)\n",
    "        i = i+1\n",
    "        hour = Array(DataFrame(zone[i, :]))\n",
    "        km = kmeans(hour, 5)\n",
    "        centers = km.centers\n",
    "        prob_scenarios = counts(km) / 10000\n",
    "        push!(reduced_scenarios[c], centers)\n",
    "        push!(prob_of_scenarios[c], prob_scenarios)\n",
    "    end\n",
    "end"
   ]
  },
  {
   "cell_type": "code",
   "execution_count": 95,
   "metadata": {},
   "outputs": [
    {
     "data": {
      "text/html": [
       "<div><div style = \"float: left;\"><span>43×5 DataFrame</span></div><div style = \"float: right;\"><span style = \"font-style: italic;\">18 rows omitted</span></div><div style = \"clear: both;\"></div></div><div class = \"data-frame\" style = \"overflow-x: scroll;\"><table class = \"data-frame\" style = \"margin-bottom: 6px;\"><thead><tr class = \"header\"><th class = \"rowNumber\" style = \"font-weight: bold; text-align: right;\">Row</th><th style = \"text-align: left;\">x1</th><th style = \"text-align: left;\">x2</th><th style = \"text-align: left;\">x3</th><th style = \"text-align: left;\">x4</th><th style = \"text-align: left;\">x5</th></tr><tr class = \"subheader headerLastRow\"><th class = \"rowNumber\" style = \"font-weight: bold; text-align: right;\"></th><th title = \"Float64\" style = \"text-align: left;\">Float64</th><th title = \"Float64\" style = \"text-align: left;\">Float64</th><th title = \"Float64\" style = \"text-align: left;\">Float64</th><th title = \"Float64\" style = \"text-align: left;\">Float64</th><th title = \"Float64\" style = \"text-align: left;\">Float64</th></tr></thead><tbody><tr><td class = \"rowNumber\" style = \"font-weight: bold; text-align: right;\">1</td><td style = \"text-align: right;\">49.695</td><td style = \"text-align: right;\">40.6329</td><td style = \"text-align: right;\">35.8766</td><td style = \"text-align: right;\">29.1061</td><td style = \"text-align: right;\">45.0115</td></tr><tr><td class = \"rowNumber\" style = \"font-weight: bold; text-align: right;\">2</td><td style = \"text-align: right;\">52.8842</td><td style = \"text-align: right;\">48.3096</td><td style = \"text-align: right;\">31.686</td><td style = \"text-align: right;\">39.0239</td><td style = \"text-align: right;\">43.9231</td></tr><tr><td class = \"rowNumber\" style = \"font-weight: bold; text-align: right;\">3</td><td style = \"text-align: right;\">35.7729</td><td style = \"text-align: right;\">56.4327</td><td style = \"text-align: right;\">47.9695</td><td style = \"text-align: right;\">52.0982</td><td style = \"text-align: right;\">42.9852</td></tr><tr><td class = \"rowNumber\" style = \"font-weight: bold; text-align: right;\">4</td><td style = \"text-align: right;\">55.0663</td><td style = \"text-align: right;\">46.0224</td><td style = \"text-align: right;\">38.7643</td><td style = \"text-align: right;\">50.847</td><td style = \"text-align: right;\">59.5954</td></tr><tr><td class = \"rowNumber\" style = \"font-weight: bold; text-align: right;\">5</td><td style = \"text-align: right;\">54.8511</td><td style = \"text-align: right;\">39.4904</td><td style = \"text-align: right;\">59.0392</td><td style = \"text-align: right;\">50.7968</td><td style = \"text-align: right;\">46.0616</td></tr><tr><td class = \"rowNumber\" style = \"font-weight: bold; text-align: right;\">6</td><td style = \"text-align: right;\">46.0533</td><td style = \"text-align: right;\">50.8773</td><td style = \"text-align: right;\">59.1914</td><td style = \"text-align: right;\">54.9554</td><td style = \"text-align: right;\">39.0327</td></tr><tr><td class = \"rowNumber\" style = \"font-weight: bold; text-align: right;\">7</td><td style = \"text-align: right;\">55.4052</td><td style = \"text-align: right;\">59.4861</td><td style = \"text-align: right;\">46.4808</td><td style = \"text-align: right;\">39.754</td><td style = \"text-align: right;\">51.3646</td></tr><tr><td class = \"rowNumber\" style = \"font-weight: bold; text-align: right;\">8</td><td style = \"text-align: right;\">50.3729</td><td style = \"text-align: right;\">37.4627</td><td style = \"text-align: right;\">59.5348</td><td style = \"text-align: right;\">45.0125</td><td style = \"text-align: right;\">54.834</td></tr><tr><td class = \"rowNumber\" style = \"font-weight: bold; text-align: right;\">9</td><td style = \"text-align: right;\">45.2436</td><td style = \"text-align: right;\">54.5191</td><td style = \"text-align: right;\">50.3007</td><td style = \"text-align: right;\">58.976</td><td style = \"text-align: right;\">37.8493</td></tr><tr><td class = \"rowNumber\" style = \"font-weight: bold; text-align: right;\">10</td><td style = \"text-align: right;\">46.8491</td><td style = \"text-align: right;\">61.6875</td><td style = \"text-align: right;\">56.8715</td><td style = \"text-align: right;\">52.1854</td><td style = \"text-align: right;\">38.9461</td></tr><tr><td class = \"rowNumber\" style = \"font-weight: bold; text-align: right;\">11</td><td style = \"text-align: right;\">61.852</td><td style = \"text-align: right;\">49.9305</td><td style = \"text-align: right;\">57.9484</td><td style = \"text-align: right;\">54.2086</td><td style = \"text-align: right;\">43.532</td></tr><tr><td class = \"rowNumber\" style = \"font-weight: bold; text-align: right;\">12</td><td style = \"text-align: right;\">57.1546</td><td style = \"text-align: right;\">61.3676</td><td style = \"text-align: right;\">53.0869</td><td style = \"text-align: right;\">48.2531</td><td style = \"text-align: right;\">41.0294</td></tr><tr><td class = \"rowNumber\" style = \"font-weight: bold; text-align: right;\">13</td><td style = \"text-align: right;\">38.1384</td><td style = \"text-align: right;\">55.6053</td><td style = \"text-align: right;\">45.6402</td><td style = \"text-align: right;\">50.9995</td><td style = \"text-align: right;\">60.5411</td></tr><tr><td style = \"text-align: right;\">&vellip;</td><td style = \"text-align: right;\">&vellip;</td><td style = \"text-align: right;\">&vellip;</td><td style = \"text-align: right;\">&vellip;</td><td style = \"text-align: right;\">&vellip;</td><td style = \"text-align: right;\">&vellip;</td></tr><tr><td class = \"rowNumber\" style = \"font-weight: bold; text-align: right;\">32</td><td style = \"text-align: right;\">10.9071</td><td style = \"text-align: right;\">33.2641</td><td style = \"text-align: right;\">22.1872</td><td style = \"text-align: right;\">17.1093</td><td style = \"text-align: right;\">27.1267</td></tr><tr><td class = \"rowNumber\" style = \"font-weight: bold; text-align: right;\">33</td><td style = \"text-align: right;\">19.9642</td><td style = \"text-align: right;\">9.36326</td><td style = \"text-align: right;\">31.008</td><td style = \"text-align: right;\">25.0106</td><td style = \"text-align: right;\">15.1641</td></tr><tr><td class = \"rowNumber\" style = \"font-weight: bold; text-align: right;\">34</td><td style = \"text-align: right;\">7.51628</td><td style = \"text-align: right;\">23.0323</td><td style = \"text-align: right;\">12.9894</td><td style = \"text-align: right;\">17.9008</td><td style = \"text-align: right;\">29.671</td></tr><tr><td class = \"rowNumber\" style = \"font-weight: bold; text-align: right;\">35</td><td style = \"text-align: right;\">21.1205</td><td style = \"text-align: right;\">27.7085</td><td style = \"text-align: right;\">6.01165</td><td style = \"text-align: right;\">11.1675</td><td style = \"text-align: right;\">15.9632</td></tr><tr><td class = \"rowNumber\" style = \"font-weight: bold; text-align: right;\">36</td><td style = \"text-align: right;\">12.1797</td><td style = \"text-align: right;\">21.9286</td><td style = \"text-align: right;\">4.35769</td><td style = \"text-align: right;\">16.4376</td><td style = \"text-align: right;\">8.38452</td></tr><tr><td class = \"rowNumber\" style = \"font-weight: bold; text-align: right;\">37</td><td style = \"text-align: right;\">6.29125</td><td style = \"text-align: right;\">17.5706</td><td style = \"text-align: right;\">12.8581</td><td style = \"text-align: right;\">3.05864</td><td style = \"text-align: right;\">9.38787</td></tr><tr><td class = \"rowNumber\" style = \"font-weight: bold; text-align: right;\">38</td><td style = \"text-align: right;\">8.90507</td><td style = \"text-align: right;\">2.49978</td><td style = \"text-align: right;\">18.1883</td><td style = \"text-align: right;\">12.7027</td><td style = \"text-align: right;\">5.61585</td></tr><tr><td class = \"rowNumber\" style = \"font-weight: bold; text-align: right;\">39</td><td style = \"text-align: right;\">7.92622</td><td style = \"text-align: right;\">2.02806</td><td style = \"text-align: right;\">17.438</td><td style = \"text-align: right;\">11.7432</td><td style = \"text-align: right;\">4.90671</td></tr><tr><td class = \"rowNumber\" style = \"font-weight: bold; text-align: right;\">40</td><td style = \"text-align: right;\">13.7725</td><td style = \"text-align: right;\">22.1316</td><td style = \"text-align: right;\">8.65481</td><td style = \"text-align: right;\">1.59081</td><td style = \"text-align: right;\">4.76449</td></tr><tr><td class = \"rowNumber\" style = \"font-weight: bold; text-align: right;\">41</td><td style = \"text-align: right;\">4.29068</td><td style = \"text-align: right;\">20.8823</td><td style = \"text-align: right;\">12.6007</td><td style = \"text-align: right;\">1.42039</td><td style = \"text-align: right;\">7.82455</td></tr><tr><td class = \"rowNumber\" style = \"font-weight: bold; text-align: right;\">42</td><td style = \"text-align: right;\">1.50303</td><td style = \"text-align: right;\">18.4976</td><td style = \"text-align: right;\">4.24592</td><td style = \"text-align: right;\">11.7822</td><td style = \"text-align: right;\">7.45724</td></tr><tr><td class = \"rowNumber\" style = \"font-weight: bold; text-align: right;\">43</td><td style = \"text-align: right;\">6.56816</td><td style = \"text-align: right;\">1.46912</td><td style = \"text-align: right;\">3.87848</td><td style = \"text-align: right;\">14.8226</td><td style = \"text-align: right;\">9.8689</td></tr></tbody></table></div>"
      ],
      "text/latex": [
       "\\begin{tabular}{r|ccccc}\n",
       "\t& x1 & x2 & x3 & x4 & x5\\\\\n",
       "\t\\hline\n",
       "\t& Float64 & Float64 & Float64 & Float64 & Float64\\\\\n",
       "\t\\hline\n",
       "\t1 & 49.695 & 40.6329 & 35.8766 & 29.1061 & 45.0115 \\\\\n",
       "\t2 & 52.8842 & 48.3096 & 31.686 & 39.0239 & 43.9231 \\\\\n",
       "\t3 & 35.7729 & 56.4327 & 47.9695 & 52.0982 & 42.9852 \\\\\n",
       "\t4 & 55.0663 & 46.0224 & 38.7643 & 50.847 & 59.5954 \\\\\n",
       "\t5 & 54.8511 & 39.4904 & 59.0392 & 50.7968 & 46.0616 \\\\\n",
       "\t6 & 46.0533 & 50.8773 & 59.1914 & 54.9554 & 39.0327 \\\\\n",
       "\t7 & 55.4052 & 59.4861 & 46.4808 & 39.754 & 51.3646 \\\\\n",
       "\t8 & 50.3729 & 37.4627 & 59.5348 & 45.0125 & 54.834 \\\\\n",
       "\t9 & 45.2436 & 54.5191 & 50.3007 & 58.976 & 37.8493 \\\\\n",
       "\t10 & 46.8491 & 61.6875 & 56.8715 & 52.1854 & 38.9461 \\\\\n",
       "\t11 & 61.852 & 49.9305 & 57.9484 & 54.2086 & 43.532 \\\\\n",
       "\t12 & 57.1546 & 61.3676 & 53.0869 & 48.2531 & 41.0294 \\\\\n",
       "\t13 & 38.1384 & 55.6053 & 45.6402 & 50.9995 & 60.5411 \\\\\n",
       "\t14 & 49.4365 & 60.0113 & 35.4654 & 54.5387 & 43.7436 \\\\\n",
       "\t15 & 34.9909 & 59.2592 & 53.8406 & 43.0771 & 48.8488 \\\\\n",
       "\t16 & 50.6918 & 37.1808 & 60.2784 & 45.1867 & 55.3483 \\\\\n",
       "\t17 & 61.6929 & 40.3444 & 47.454 & 52.5098 & 57.0041 \\\\\n",
       "\t18 & 54.6561 & 62.4422 & 43.6693 & 58.4758 & 50.2682 \\\\\n",
       "\t19 & 56.1589 & 60.2987 & 43.6463 & 64.6817 & 51.0657 \\\\\n",
       "\t20 & 49.6162 & 59.8423 & 55.12 & 64.7097 & 41.4282 \\\\\n",
       "\t21 & 53.0497 & 39.603 & 57.8763 & 47.4956 & 63.1972 \\\\\n",
       "\t22 & 63.4656 & 37.8711 & 57.8099 & 46.4283 & 52.4539 \\\\\n",
       "\t23 & 57.547 & 36.7525 & 63.6375 & 51.9995 & 45.6963 \\\\\n",
       "\t24 & 62.2441 & 51.2264 & 37.0481 & 56.5905 & 45.3629 \\\\\n",
       "\t25 & 48.3959 & 34.2466 & 53.5636 & 59.3667 & 42.7803 \\\\\n",
       "\t26 & 38.5557 & 29.9603 & 56.7904 & 50.4821 & 44.8361 \\\\\n",
       "\t27 & 32.5705 & 52.3525 & 23.5395 & 39.1788 & 45.339 \\\\\n",
       "\t28 & 35.5009 & 28.9128 & 48.8378 & 41.6777 & 20.047 \\\\\n",
       "\t29 & 31.0885 & 42.9798 & 17.644 & 36.6422 & 25.1389 \\\\\n",
       "\t30 & 26.9986 & 38.3223 & 14.5585 & 32.1985 & 21.4511 \\\\\n",
       "\t$\\dots$ & $\\dots$ & $\\dots$ & $\\dots$ & $\\dots$ & $\\dots$ \\\\\n",
       "\\end{tabular}\n"
      ],
      "text/plain": [
       "\u001b[1m43×5 DataFrame\u001b[0m\n",
       "\u001b[1m Row \u001b[0m│\u001b[1m x1       \u001b[0m\u001b[1m x2       \u001b[0m\u001b[1m x3       \u001b[0m\u001b[1m x4       \u001b[0m\u001b[1m x5       \u001b[0m\n",
       "     │\u001b[90m Float64  \u001b[0m\u001b[90m Float64  \u001b[0m\u001b[90m Float64  \u001b[0m\u001b[90m Float64  \u001b[0m\u001b[90m Float64  \u001b[0m\n",
       "─────┼──────────────────────────────────────────────────\n",
       "   1 │ 49.695    40.6329   35.8766   29.1061   45.0115\n",
       "   2 │ 52.8842   48.3096   31.686    39.0239   43.9231\n",
       "   3 │ 35.7729   56.4327   47.9695   52.0982   42.9852\n",
       "   4 │ 55.0663   46.0224   38.7643   50.847    59.5954\n",
       "   5 │ 54.8511   39.4904   59.0392   50.7968   46.0616\n",
       "   6 │ 46.0533   50.8773   59.1914   54.9554   39.0327\n",
       "   7 │ 55.4052   59.4861   46.4808   39.754    51.3646\n",
       "   8 │ 50.3729   37.4627   59.5348   45.0125   54.834\n",
       "   9 │ 45.2436   54.5191   50.3007   58.976    37.8493\n",
       "  10 │ 46.8491   61.6875   56.8715   52.1854   38.9461\n",
       "  11 │ 61.852    49.9305   57.9484   54.2086   43.532\n",
       "  ⋮  │    ⋮         ⋮         ⋮         ⋮         ⋮\n",
       "  34 │  7.51628  23.0323   12.9894   17.9008   29.671\n",
       "  35 │ 21.1205   27.7085    6.01165  11.1675   15.9632\n",
       "  36 │ 12.1797   21.9286    4.35769  16.4376    8.38452\n",
       "  37 │  6.29125  17.5706   12.8581    3.05864   9.38787\n",
       "  38 │  8.90507   2.49978  18.1883   12.7027    5.61585\n",
       "  39 │  7.92622   2.02806  17.438    11.7432    4.90671\n",
       "  40 │ 13.7725   22.1316    8.65481   1.59081   4.76449\n",
       "  41 │  4.29068  20.8823   12.6007    1.42039   7.82455\n",
       "  42 │  1.50303  18.4976    4.24592  11.7822    7.45724\n",
       "  43 │  6.56816   1.46912   3.87848  14.8226    9.8689\n",
       "\u001b[36m                                         22 rows omitted\u001b[0m"
      ]
     },
     "execution_count": 95,
     "metadata": {},
     "output_type": "execute_result"
    }
   ],
   "source": [
    "Scenarios_zone1 = (DataFrame(reduce(vcat, reduced_scenarios[1]), :auto))\n",
    "Scenarios_zone2 = (DataFrame(reduce(vcat, reduced_scenarios[2]), :auto))\n",
    "Scenarios_zone3 = (DataFrame(reduce(vcat, reduced_scenarios[3]), :auto))\n",
    "Scenarios_zone4 = (DataFrame(reduce(vcat, reduced_scenarios[4]), :auto))"
   ]
  },
  {
   "cell_type": "code",
   "execution_count": 96,
   "metadata": {},
   "outputs": [
    {
     "data": {
      "text/plain": [
       "\"./data/scenarios/Scenarios_zone4.csv\""
      ]
     },
     "execution_count": 96,
     "metadata": {},
     "output_type": "execute_result"
    }
   ],
   "source": [
    "CSV.write(\"./data/scenarios/Scenarios_zone1.csv\", Scenarios_zone1)\n",
    "CSV.write(\"./data/scenarios/Scenarios_zone2.csv\", Scenarios_zone2)\n",
    "CSV.write(\"./data/scenarios/Scenarios_zone3.csv\", Scenarios_zone3)\n",
    "CSV.write(\"./data/scenarios/Scenarios_zone4.csv\", Scenarios_zone4)"
   ]
  },
  {
   "cell_type": "code",
   "execution_count": 97,
   "metadata": {},
   "outputs": [
    {
     "data": {
      "text/html": [
       "<div><div style = \"float: left;\"><span>43×5 DataFrame</span></div><div style = \"float: right;\"><span style = \"font-style: italic;\">18 rows omitted</span></div><div style = \"clear: both;\"></div></div><div class = \"data-frame\" style = \"overflow-x: scroll;\"><table class = \"data-frame\" style = \"margin-bottom: 6px;\"><thead><tr class = \"header\"><th class = \"rowNumber\" style = \"font-weight: bold; text-align: right;\">Row</th><th style = \"text-align: left;\">x1</th><th style = \"text-align: left;\">x2</th><th style = \"text-align: left;\">x3</th><th style = \"text-align: left;\">x4</th><th style = \"text-align: left;\">x5</th></tr><tr class = \"subheader headerLastRow\"><th class = \"rowNumber\" style = \"font-weight: bold; text-align: right;\"></th><th title = \"Float64\" style = \"text-align: left;\">Float64</th><th title = \"Float64\" style = \"text-align: left;\">Float64</th><th title = \"Float64\" style = \"text-align: left;\">Float64</th><th title = \"Float64\" style = \"text-align: left;\">Float64</th><th title = \"Float64\" style = \"text-align: left;\">Float64</th></tr></thead><tbody><tr><td class = \"rowNumber\" style = \"font-weight: bold; text-align: right;\">1</td><td style = \"text-align: right;\">0.1697</td><td style = \"text-align: right;\">0.271</td><td style = \"text-align: right;\">0.1845</td><td style = \"text-align: right;\">0.0672</td><td style = \"text-align: right;\">0.3076</td></tr><tr><td class = \"rowNumber\" style = \"font-weight: bold; text-align: right;\">2</td><td style = \"text-align: right;\">0.1925</td><td style = \"text-align: right;\">0.3027</td><td style = \"text-align: right;\">0.057</td><td style = \"text-align: right;\">0.1684</td><td style = \"text-align: right;\">0.2794</td></tr><tr><td class = \"rowNumber\" style = \"font-weight: bold; text-align: right;\">3</td><td style = \"text-align: right;\">0.0634</td><td style = \"text-align: right;\">0.1802</td><td style = \"text-align: right;\">0.2827</td><td style = \"text-align: right;\">0.2948</td><td style = \"text-align: right;\">0.1789</td></tr><tr><td class = \"rowNumber\" style = \"font-weight: bold; text-align: right;\">4</td><td style = \"text-align: right;\">0.3042</td><td style = \"text-align: right;\">0.1722</td><td style = \"text-align: right;\">0.0578</td><td style = \"text-align: right;\">0.275</td><td style = \"text-align: right;\">0.1908</td></tr><tr><td class = \"rowNumber\" style = \"font-weight: bold; text-align: right;\">5</td><td style = \"text-align: right;\">0.3177</td><td style = \"text-align: right;\">0.052</td><td style = \"text-align: right;\">0.2056</td><td style = \"text-align: right;\">0.2664</td><td style = \"text-align: right;\">0.1583</td></tr><tr><td class = \"rowNumber\" style = \"font-weight: bold; text-align: right;\">6</td><td style = \"text-align: right;\">0.1644</td><td style = \"text-align: right;\">0.2708</td><td style = \"text-align: right;\">0.1997</td><td style = \"text-align: right;\">0.313</td><td style = \"text-align: right;\">0.0521</td></tr><tr><td class = \"rowNumber\" style = \"font-weight: bold; text-align: right;\">7</td><td style = \"text-align: right;\">0.2991</td><td style = \"text-align: right;\">0.1782</td><td style = \"text-align: right;\">0.1724</td><td style = \"text-align: right;\">0.0605</td><td style = \"text-align: right;\">0.2898</td></tr><tr><td class = \"rowNumber\" style = \"font-weight: bold; text-align: right;\">8</td><td style = \"text-align: right;\">0.2837</td><td style = \"text-align: right;\">0.0541</td><td style = \"text-align: right;\">0.1904</td><td style = \"text-align: right;\">0.1704</td><td style = \"text-align: right;\">0.3014</td></tr><tr><td class = \"rowNumber\" style = \"font-weight: bold; text-align: right;\">9</td><td style = \"text-align: right;\">0.1683</td><td style = \"text-align: right;\">0.3139</td><td style = \"text-align: right;\">0.2732</td><td style = \"text-align: right;\">0.1896</td><td style = \"text-align: right;\">0.055</td></tr><tr><td class = \"rowNumber\" style = \"font-weight: bold; text-align: right;\">10</td><td style = \"text-align: right;\">0.167</td><td style = \"text-align: right;\">0.1947</td><td style = \"text-align: right;\">0.3196</td><td style = \"text-align: right;\">0.2697</td><td style = \"text-align: right;\">0.049</td></tr><tr><td class = \"rowNumber\" style = \"font-weight: bold; text-align: right;\">11</td><td style = \"text-align: right;\">0.1875</td><td style = \"text-align: right;\">0.174</td><td style = \"text-align: right;\">0.3073</td><td style = \"text-align: right;\">0.2663</td><td style = \"text-align: right;\">0.0649</td></tr><tr><td class = \"rowNumber\" style = \"font-weight: bold; text-align: right;\">12</td><td style = \"text-align: right;\">0.3059</td><td style = \"text-align: right;\">0.1821</td><td style = \"text-align: right;\">0.2818</td><td style = \"text-align: right;\">0.1719</td><td style = \"text-align: right;\">0.0583</td></tr><tr><td class = \"rowNumber\" style = \"font-weight: bold; text-align: right;\">13</td><td style = \"text-align: right;\">0.0636</td><td style = \"text-align: right;\">0.3101</td><td style = \"text-align: right;\">0.1768</td><td style = \"text-align: right;\">0.2728</td><td style = \"text-align: right;\">0.1767</td></tr><tr><td style = \"text-align: right;\">&vellip;</td><td style = \"text-align: right;\">&vellip;</td><td style = \"text-align: right;\">&vellip;</td><td style = \"text-align: right;\">&vellip;</td><td style = \"text-align: right;\">&vellip;</td><td style = \"text-align: right;\">&vellip;</td></tr><tr><td class = \"rowNumber\" style = \"font-weight: bold; text-align: right;\">32</td><td style = \"text-align: right;\">0.1272</td><td style = \"text-align: right;\">0.1154</td><td style = \"text-align: right;\">0.2826</td><td style = \"text-align: right;\">0.2329</td><td style = \"text-align: right;\">0.2419</td></tr><tr><td class = \"rowNumber\" style = \"font-weight: bold; text-align: right;\">33</td><td style = \"text-align: right;\">0.2839</td><td style = \"text-align: right;\">0.1386</td><td style = \"text-align: right;\">0.1061</td><td style = \"text-align: right;\">0.2268</td><td style = \"text-align: right;\">0.2446</td></tr><tr><td class = \"rowNumber\" style = \"font-weight: bold; text-align: right;\">34</td><td style = \"text-align: right;\">0.1483</td><td style = \"text-align: right;\">0.2243</td><td style = \"text-align: right;\">0.2492</td><td style = \"text-align: right;\">0.277</td><td style = \"text-align: right;\">0.1012</td></tr><tr><td class = \"rowNumber\" style = \"font-weight: bold; text-align: right;\">35</td><td style = \"text-align: right;\">0.1997</td><td style = \"text-align: right;\">0.0818</td><td style = \"text-align: right;\">0.1768</td><td style = \"text-align: right;\">0.2638</td><td style = \"text-align: right;\">0.2779</td></tr><tr><td class = \"rowNumber\" style = \"font-weight: bold; text-align: right;\">36</td><td style = \"text-align: right;\">0.2739</td><td style = \"text-align: right;\">0.0784</td><td style = \"text-align: right;\">0.1804</td><td style = \"text-align: right;\">0.187</td><td style = \"text-align: right;\">0.2803</td></tr><tr><td class = \"rowNumber\" style = \"font-weight: bold; text-align: right;\">37</td><td style = \"text-align: right;\">0.2895</td><td style = \"text-align: right;\">0.0666</td><td style = \"text-align: right;\">0.1748</td><td style = \"text-align: right;\">0.2071</td><td style = \"text-align: right;\">0.262</td></tr><tr><td class = \"rowNumber\" style = \"font-weight: bold; text-align: right;\">38</td><td style = \"text-align: right;\">0.2503</td><td style = \"text-align: right;\">0.2549</td><td style = \"text-align: right;\">0.0477</td><td style = \"text-align: right;\">0.1572</td><td style = \"text-align: right;\">0.2899</td></tr><tr><td class = \"rowNumber\" style = \"font-weight: bold; text-align: right;\">39</td><td style = \"text-align: right;\">0.2326</td><td style = \"text-align: right;\">0.2952</td><td style = \"text-align: right;\">0.0398</td><td style = \"text-align: right;\">0.1275</td><td style = \"text-align: right;\">0.3049</td></tr><tr><td class = \"rowNumber\" style = \"font-weight: bold; text-align: right;\">40</td><td style = \"text-align: right;\">0.0949</td><td style = \"text-align: right;\">0.0226</td><td style = \"text-align: right;\">0.1954</td><td style = \"text-align: right;\">0.3723</td><td style = \"text-align: right;\">0.3148</td></tr><tr><td class = \"rowNumber\" style = \"font-weight: bold; text-align: right;\">41</td><td style = \"text-align: right;\">0.2916</td><td style = \"text-align: right;\">0.0282</td><td style = \"text-align: right;\">0.0983</td><td style = \"text-align: right;\">0.3868</td><td style = \"text-align: right;\">0.1951</td></tr><tr><td class = \"rowNumber\" style = \"font-weight: bold; text-align: right;\">42</td><td style = \"text-align: right;\">0.3605</td><td style = \"text-align: right;\">0.0296</td><td style = \"text-align: right;\">0.3029</td><td style = \"text-align: right;\">0.1068</td><td style = \"text-align: right;\">0.2002</td></tr><tr><td class = \"rowNumber\" style = \"font-weight: bold; text-align: right;\">43</td><td style = \"text-align: right;\">0.2066</td><td style = \"text-align: right;\">0.3451</td><td style = \"text-align: right;\">0.3054</td><td style = \"text-align: right;\">0.033</td><td style = \"text-align: right;\">0.1099</td></tr></tbody></table></div>"
      ],
      "text/latex": [
       "\\begin{tabular}{r|ccccc}\n",
       "\t& x1 & x2 & x3 & x4 & x5\\\\\n",
       "\t\\hline\n",
       "\t& Float64 & Float64 & Float64 & Float64 & Float64\\\\\n",
       "\t\\hline\n",
       "\t1 & 0.1697 & 0.271 & 0.1845 & 0.0672 & 0.3076 \\\\\n",
       "\t2 & 0.1925 & 0.3027 & 0.057 & 0.1684 & 0.2794 \\\\\n",
       "\t3 & 0.0634 & 0.1802 & 0.2827 & 0.2948 & 0.1789 \\\\\n",
       "\t4 & 0.3042 & 0.1722 & 0.0578 & 0.275 & 0.1908 \\\\\n",
       "\t5 & 0.3177 & 0.052 & 0.2056 & 0.2664 & 0.1583 \\\\\n",
       "\t6 & 0.1644 & 0.2708 & 0.1997 & 0.313 & 0.0521 \\\\\n",
       "\t7 & 0.2991 & 0.1782 & 0.1724 & 0.0605 & 0.2898 \\\\\n",
       "\t8 & 0.2837 & 0.0541 & 0.1904 & 0.1704 & 0.3014 \\\\\n",
       "\t9 & 0.1683 & 0.3139 & 0.2732 & 0.1896 & 0.055 \\\\\n",
       "\t10 & 0.167 & 0.1947 & 0.3196 & 0.2697 & 0.049 \\\\\n",
       "\t11 & 0.1875 & 0.174 & 0.3073 & 0.2663 & 0.0649 \\\\\n",
       "\t12 & 0.3059 & 0.1821 & 0.2818 & 0.1719 & 0.0583 \\\\\n",
       "\t13 & 0.0636 & 0.3101 & 0.1768 & 0.2728 & 0.1767 \\\\\n",
       "\t14 & 0.2812 & 0.1776 & 0.068 & 0.2868 & 0.1864 \\\\\n",
       "\t15 & 0.0677 & 0.1655 & 0.2969 & 0.1904 & 0.2795 \\\\\n",
       "\t16 & 0.2812 & 0.0679 & 0.1635 & 0.1937 & 0.2937 \\\\\n",
       "\t17 & 0.1918 & 0.0596 & 0.1639 & 0.2724 & 0.3123 \\\\\n",
       "\t18 & 0.2555 & 0.2235 & 0.046 & 0.3194 & 0.1556 \\\\\n",
       "\t19 & 0.2765 & 0.3069 & 0.0544 & 0.1886 & 0.1736 \\\\\n",
       "\t20 & 0.1827 & 0.3034 & 0.2802 & 0.178 & 0.0557 \\\\\n",
       "\t21 & 0.2739 & 0.0554 & 0.3143 & 0.1656 & 0.1908 \\\\\n",
       "\t22 & 0.1975 & 0.0552 & 0.311 & 0.1668 & 0.2695 \\\\\n",
       "\t23 & 0.2986 & 0.0679 & 0.1734 & 0.2737 & 0.1864 \\\\\n",
       "\t24 & 0.1743 & 0.2794 & 0.0663 & 0.2944 & 0.1856 \\\\\n",
       "\t25 & 0.2698 & 0.0709 & 0.2943 & 0.1727 & 0.1923 \\\\\n",
       "\t26 & 0.1991 & 0.0798 & 0.1525 & 0.282 & 0.2866 \\\\\n",
       "\t27 & 0.2068 & 0.155 & 0.0795 & 0.2822 & 0.2765 \\\\\n",
       "\t28 & 0.2875 & 0.2227 & 0.1266 & 0.277 & 0.0862 \\\\\n",
       "\t29 & 0.2885 & 0.1312 & 0.0971 & 0.2597 & 0.2235 \\\\\n",
       "\t30 & 0.2855 & 0.1306 & 0.103 & 0.2537 & 0.2272 \\\\\n",
       "\t$\\dots$ & $\\dots$ & $\\dots$ & $\\dots$ & $\\dots$ & $\\dots$ \\\\\n",
       "\\end{tabular}\n"
      ],
      "text/plain": [
       "\u001b[1m43×5 DataFrame\u001b[0m\n",
       "\u001b[1m Row \u001b[0m│\u001b[1m x1      \u001b[0m\u001b[1m x2      \u001b[0m\u001b[1m x3      \u001b[0m\u001b[1m x4      \u001b[0m\u001b[1m x5      \u001b[0m\n",
       "     │\u001b[90m Float64 \u001b[0m\u001b[90m Float64 \u001b[0m\u001b[90m Float64 \u001b[0m\u001b[90m Float64 \u001b[0m\u001b[90m Float64 \u001b[0m\n",
       "─────┼─────────────────────────────────────────────\n",
       "   1 │  0.1697   0.271    0.1845   0.0672   0.3076\n",
       "   2 │  0.1925   0.3027   0.057    0.1684   0.2794\n",
       "   3 │  0.0634   0.1802   0.2827   0.2948   0.1789\n",
       "   4 │  0.3042   0.1722   0.0578   0.275    0.1908\n",
       "   5 │  0.3177   0.052    0.2056   0.2664   0.1583\n",
       "   6 │  0.1644   0.2708   0.1997   0.313    0.0521\n",
       "   7 │  0.2991   0.1782   0.1724   0.0605   0.2898\n",
       "   8 │  0.2837   0.0541   0.1904   0.1704   0.3014\n",
       "   9 │  0.1683   0.3139   0.2732   0.1896   0.055\n",
       "  10 │  0.167    0.1947   0.3196   0.2697   0.049\n",
       "  11 │  0.1875   0.174    0.3073   0.2663   0.0649\n",
       "  ⋮  │    ⋮        ⋮        ⋮        ⋮        ⋮\n",
       "  34 │  0.1483   0.2243   0.2492   0.277    0.1012\n",
       "  35 │  0.1997   0.0818   0.1768   0.2638   0.2779\n",
       "  36 │  0.2739   0.0784   0.1804   0.187    0.2803\n",
       "  37 │  0.2895   0.0666   0.1748   0.2071   0.262\n",
       "  38 │  0.2503   0.2549   0.0477   0.1572   0.2899\n",
       "  39 │  0.2326   0.2952   0.0398   0.1275   0.3049\n",
       "  40 │  0.0949   0.0226   0.1954   0.3723   0.3148\n",
       "  41 │  0.2916   0.0282   0.0983   0.3868   0.1951\n",
       "  42 │  0.3605   0.0296   0.3029   0.1068   0.2002\n",
       "  43 │  0.2066   0.3451   0.3054   0.033    0.1099\n",
       "\u001b[36m                                    22 rows omitted\u001b[0m"
      ]
     },
     "execution_count": 97,
     "metadata": {},
     "output_type": "execute_result"
    }
   ],
   "source": [
    "Probs_zone1 = (DataFrame(reduce(vcat, prob_of_scenarios[1]'), :auto))\n",
    "Probs_zone2 = (DataFrame(reduce(vcat, prob_of_scenarios[2]'), :auto))\n",
    "Probs_zone3 = (DataFrame(reduce(vcat, prob_of_scenarios[3]'), :auto))\n",
    "Probs_zone4 = (DataFrame(reduce(vcat, prob_of_scenarios[4]'), :auto))"
   ]
  },
  {
   "cell_type": "code",
   "execution_count": 98,
   "metadata": {},
   "outputs": [
    {
     "data": {
      "text/plain": [
       "\"./data/scenarios/Probs_zone4.csv\""
      ]
     },
     "execution_count": 98,
     "metadata": {},
     "output_type": "execute_result"
    }
   ],
   "source": [
    "CSV.write(\"./data/scenarios/Probs_zone1.csv\", Probs_zone1)\n",
    "CSV.write(\"./data/scenarios/Probs_zone2.csv\", Probs_zone2)\n",
    "CSV.write(\"./data/scenarios/Probs_zone3.csv\", Probs_zone3)\n",
    "CSV.write(\"./data/scenarios/Probs_zone4.csv\", Probs_zone4)"
   ]
  }
 ],
 "metadata": {
  "kernelspec": {
   "display_name": "Julia 1.8.2",
   "language": "julia",
   "name": "julia-1.8"
  },
  "language_info": {
   "file_extension": ".jl",
   "mimetype": "application/julia",
   "name": "julia",
   "version": "1.8.2"
  },
  "orig_nbformat": 4
 },
 "nbformat": 4,
 "nbformat_minor": 2
}
